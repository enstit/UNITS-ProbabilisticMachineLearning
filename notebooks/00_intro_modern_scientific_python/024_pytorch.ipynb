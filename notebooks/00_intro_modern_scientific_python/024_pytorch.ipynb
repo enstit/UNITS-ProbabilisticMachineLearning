{
 "cells": [
  {
   "attachments": {},
   "cell_type": "markdown",
   "metadata": {},
   "source": [
    "# Notebook 2.4: Introduction to `PyTorch` 🔥\n",
    "\n",
    "Probabilistic Machine Learning -- Spring 2023, UniTS"
   ]
  },
  {
   "attachments": {},
   "cell_type": "markdown",
   "metadata": {},
   "source": [
    "[PyTorch](https://pyth.org/) is a Python (and C++) framework for:\n",
    "- Efficient numerical computing, with (support for) strong GPU acceleration;\n",
    "- Automatic algorithmic differentiation (mainly in *reverse mode*, *tape-based*; but more recently also in *forward mode*);\n",
    "- Development of deep neural models (a.k.a. *deep learning*);\n",
    "\n",
    "It is also well integrated with the *scientific Python stack*.\n",
    "\n",
    "The flexibility of PyTorch and its *Pythonic* interfaces make it the most widely adopted framework for research and development, both in academia and industry (especially industrial *R&D*)."
   ]
  },
  {
   "cell_type": "code",
   "execution_count": 1,
   "metadata": {},
   "outputs": [],
   "source": [
    "# It all begins with...\n",
    "import torch\n",
    "import torch as th  # (Absolutely not necessary, but a shorthand)\n",
    "\n",
    "import numpy as np  # For comparison\n",
    "\n",
    "import matplotlib.pyplot as plt\n",
    "\n",
    "import time"
   ]
  },
  {
   "attachments": {},
   "cell_type": "markdown",
   "metadata": {},
   "source": [
    "## Basic operation with `Tensor`s\n",
    "\n",
    "The main building block of PyTorch's linear algebra capabilities is the `Tensor` class. A torch `Tensor` is the (loose) equivalent of NumPy's `ndarray` and most of the functionalities are the same as in NumPy. In general, it is always possible to perform the same logical/mathematical operations typical of NumPy on torch `Tensor`s"
   ]
  },
  {
   "cell_type": "code",
   "execution_count": 2,
   "metadata": {},
   "outputs": [
    {
     "name": "stdout",
     "output_type": "stream",
     "text": [
      "This is x:\n",
      "tensor([[1, 2, 3],\n",
      "        [4, 5, 6]])\n",
      "This is y:\n",
      "[[1 2 3]\n",
      " [4 5 6]]\n"
     ]
    }
   ],
   "source": [
    "x = th.tensor([[1, 2, 3], [4, 5, 6]])\n",
    "y = np.array([[1, 2, 3], [4, 5, 6]])\n",
    "\n",
    "print(f\"This is x:\\n{x}\")\n",
    "print(f\"This is y:\\n{y}\")"
   ]
  },
  {
   "cell_type": "code",
   "execution_count": 3,
   "metadata": {},
   "outputs": [
    {
     "data": {
      "text/plain": [
       "(torch.Size([2, 3]), torch.Size([2, 3]), (2, 3))"
      ]
     },
     "execution_count": 3,
     "metadata": {},
     "output_type": "execute_result"
    }
   ],
   "source": [
    "# Shapes and sizes\n",
    "x.size(), x.shape, y.shape"
   ]
  },
  {
   "cell_type": "code",
   "execution_count": 4,
   "metadata": {},
   "outputs": [
    {
     "data": {
      "text/plain": [
       "(torch.int64, dtype('int64'))"
      ]
     },
     "execution_count": 4,
     "metadata": {},
     "output_type": "execute_result"
    }
   ],
   "source": [
    "# (d)types\n",
    "x.dtype, y.dtype"
   ]
  },
  {
   "cell_type": "code",
   "execution_count": 5,
   "metadata": {},
   "outputs": [
    {
     "name": "stdout",
     "output_type": "stream",
     "text": [
      "dtype of x before: torch.int64\n",
      "dtype of x after: torch.float32\n"
     ]
    }
   ],
   "source": [
    "# (d)types \"casting\"\n",
    "print(\"dtype of x before:\", x.dtype)\n",
    "x = x.float()\n",
    "print(\"dtype of x after:\", x.dtype)"
   ]
  },
  {
   "cell_type": "code",
   "execution_count": 6,
   "metadata": {},
   "outputs": [
    {
     "name": "stdout",
     "output_type": "stream",
     "text": [
      "dtype of x: torch.float16\n"
     ]
    }
   ],
   "source": [
    "# Or with more granular control\n",
    "x = x.to(th.float16)\n",
    "print(\"dtype of x:\", x.dtype)"
   ]
  },
  {
   "attachments": {},
   "cell_type": "markdown",
   "metadata": {},
   "source": [
    "Note that you can build a tensor through the constructor `th.Tensor`. In this case, since `th.Tensor` is an alias for `th.FloatTensor`, the tensor you create will have type `th.float32`.\n",
    "\n",
    "More info on data types [here](https://pyth.org/docs/stable/tensors.html)."
   ]
  },
  {
   "attachments": {},
   "cell_type": "markdown",
   "metadata": {},
   "source": [
    "Tensor slicing works exactly like in NumPy, by means of square brackets:"
   ]
  },
  {
   "cell_type": "code",
   "execution_count": 7,
   "metadata": {},
   "outputs": [
    {
     "name": "stdout",
     "output_type": "stream",
     "text": [
      "tensor([[[0.9661, 0.1468],\n",
      "         [0.0440, 0.7315],\n",
      "         [0.3530, 0.6350]],\n",
      "\n",
      "        [[0.4991, 0.8001],\n",
      "         [0.9371, 0.5635],\n",
      "         [0.8814, 0.2387]]])\n"
     ]
    }
   ],
   "source": [
    "x = th.rand(2, 3, 2)\n",
    "print(x)"
   ]
  },
  {
   "cell_type": "code",
   "execution_count": 8,
   "metadata": {},
   "outputs": [
    {
     "name": "stdout",
     "output_type": "stream",
     "text": [
      "tensor(0.7315) \n",
      "\n",
      "tensor([0.7315, 0.6350]) \n",
      "\n",
      "tensor([[[0.9661, 0.1468],\n",
      "         [0.3530, 0.6350]],\n",
      "\n",
      "        [[0.4991, 0.8001],\n",
      "         [0.8814, 0.2387]]])\n"
     ]
    }
   ],
   "source": [
    "print(x[0, 1, 1], \"\\n\")\n",
    "\n",
    "print(x[0, 1:, 1], \"\\n\")\n",
    "\n",
    "print(x[:, ::2, :])"
   ]
  },
  {
   "cell_type": "code",
   "execution_count": 9,
   "metadata": {},
   "outputs": [
    {
     "name": "stdout",
     "output_type": "stream",
     "text": [
      "torch.Size([]) \n",
      "\n",
      "torch.Size([])\n",
      "torch.Size([1])\n"
     ]
    }
   ],
   "source": [
    "# Note: 0-dimensional tensors vs 1-dimensional tensors\n",
    "print(x[0, 1, 1].shape, \"\\n\")\n",
    "\n",
    "print(th.tensor(3.14).shape)\n",
    "\n",
    "print(th.tensor([3.14]).shape)"
   ]
  },
  {
   "cell_type": "code",
   "execution_count": 10,
   "metadata": {},
   "outputs": [
    {
     "name": "stdout",
     "output_type": "stream",
     "text": [
      "12\n",
      "1\n",
      "1\n"
     ]
    }
   ],
   "source": [
    "# Use of `numel`\n",
    "print(x.numel())\n",
    "\n",
    "print(th.tensor(3.14).numel())\n",
    "\n",
    "print(th.tensor([3.14]).numel())"
   ]
  },
  {
   "attachments": {},
   "cell_type": "markdown",
   "metadata": {},
   "source": [
    "### Tensor reshaping\n",
    "\n",
    "Changing the shape of a tensor can be a crucial operation. To have an idea of its application, just think of `RGB` images.\n",
    "These may be represented as $3\\times H\\times W$ tensors, where H and W stand for height and width of the image (in number of pixels). It is often needed to look at an image as a flattened (1D) vector of pixels:"
   ]
  },
  {
   "cell_type": "code",
   "execution_count": 11,
   "metadata": {},
   "outputs": [
    {
     "name": "stdout",
     "output_type": "stream",
     "text": [
      "torch.Size([3, 8, 8])\n",
      "torch.Size([3, 64])\n"
     ]
    }
   ],
   "source": [
    "img = th.stack((th.ones(8, 8), th.zeros(8, 8), th.ones(8, 8) / 2), dim=0)\n",
    "\n",
    "img.reshape(\n",
    "    3, 64\n",
    ")  # note that reshaping is not in place, so this call does not change the actual shape of img\n",
    "\n",
    "print(img.shape)\n",
    "img2 = img.reshape(3, 64)\n",
    "print(img2.shape)"
   ]
  },
  {
   "cell_type": "code",
   "execution_count": 12,
   "metadata": {},
   "outputs": [],
   "source": [
    "# plt.imshow(img.numpy())    # It errors: `TypeError: Invalid shape (3, 8, 8) for image data`"
   ]
  },
  {
   "cell_type": "code",
   "execution_count": 13,
   "metadata": {},
   "outputs": [
    {
     "data": {
      "text/plain": [
       "<matplotlib.image.AxesImage at 0x7f1f8cbb2230>"
      ]
     },
     "execution_count": 13,
     "metadata": {},
     "output_type": "execute_result"
    },
    {
     "data": {
      "image/png": "[encoded data removed]",
      "text/plain": [
       "<Figure size 640x480 with 1 Axes>"
      ]
     },
     "metadata": {},
     "output_type": "display_data"
    }
   ],
   "source": [
    "new_img = img.reshape(8, 8, 3)\n",
    "plt.imshow(new_img.numpy())"
   ]
  },
  {
   "attachments": {},
   "cell_type": "markdown",
   "metadata": {},
   "source": [
    "**Note**\n",
    "\n",
    "Difference between:\n",
    "- `view`: operations on contiguous memory;\n",
    "- `reshape`: operations on (non-)contiguous memory, using `view` wherever possible;\n",
    "- `permute`: explicit reordering of dimensions and memory;\n",
    "- `.contiguous()`: ensure that the tensor is stored in contiguous memory, with no other modification."
   ]
  },
  {
   "cell_type": "code",
   "execution_count": 14,
   "metadata": {},
   "outputs": [
    {
     "data": {
      "text/plain": [
       "<matplotlib.image.AxesImage at 0x7f1f8cb14a30>"
      ]
     },
     "execution_count": 14,
     "metadata": {},
     "output_type": "execute_result"
    },
    {
     "data": {
      "image/png": "[encoded data removed]",
      "text/plain": [
       "<Figure size 640x480 with 1 Axes>"
      ]
     },
     "metadata": {},
     "output_type": "display_data"
    }
   ],
   "source": [
    "new_img = img.permute(1, 2, 0)\n",
    "plt.imshow(new_img.numpy())"
   ]
  },
  {
   "cell_type": "code",
   "execution_count": 15,
   "metadata": {},
   "outputs": [
    {
     "data": {
      "text/plain": [
       "tensor([1, 4, 2, 5, 3, 6])"
      ]
     },
     "execution_count": 15,
     "metadata": {},
     "output_type": "execute_result"
    }
   ],
   "source": [
    "# See also:\n",
    "z = th.tensor([[1, 2, 3], [4, 5, 6]])\n",
    "y = z.t()\n",
    "y.size()\n",
    "# y.view(6)\n",
    "y.contiguous().view(6)"
   ]
  },
  {
   "attachments": {},
   "cell_type": "markdown",
   "metadata": {},
   "source": [
    "### Linear algebra"
   ]
  },
  {
   "cell_type": "code",
   "execution_count": 16,
   "metadata": {},
   "outputs": [
    {
     "name": "stdout",
     "output_type": "stream",
     "text": [
      "tensor([[0.9481, 1.1642, 0.6245, 1.2485],\n",
      "        [1.1642, 1.5995, 0.7921, 1.7560],\n",
      "        [0.6245, 0.7921, 0.5116, 0.8172],\n",
      "        [1.2485, 1.7560, 0.8172, 2.3189]])\n",
      "tensor([[0.9481, 1.1642, 0.6245, 1.2485],\n",
      "        [1.1642, 1.5995, 0.7921, 1.7560],\n",
      "        [0.6245, 0.7921, 0.5116, 0.8172],\n",
      "        [1.2485, 1.7560, 0.8172, 2.3189]])\n",
      "tensor([[0.9481, 1.1642, 0.6245, 1.2485],\n",
      "        [1.1642, 1.5995, 0.7921, 1.7560],\n",
      "        [0.6245, 0.7921, 0.5116, 0.8172],\n",
      "        [1.2485, 1.7560, 0.8172, 2.3189]])\n"
     ]
    }
   ],
   "source": [
    "x = th.rand(4, 5)\n",
    "y = x.T  # matrix transposition; also .t()\n",
    "\n",
    "print(x @ y)\n",
    "print(x.matmul(y))\n",
    "print(th.matmul(x, y))"
   ]
  },
  {
   "attachments": {},
   "cell_type": "markdown",
   "metadata": {},
   "source": [
    "Please note that the operator for matrix multiplication is `@`, not `*`, which indicates the Hadamard (element-wise) product instead."
   ]
  },
  {
   "cell_type": "code",
   "execution_count": 17,
   "metadata": {},
   "outputs": [
    {
     "data": {
      "text/plain": [
       "tensor([[1.3238e-04, 6.3946e-01, 1.2321e-01, 3.0301e-02, 1.5497e-01],\n",
       "        [1.4727e-01, 8.1417e-01, 1.8137e-01, 1.2000e-01, 3.3668e-01],\n",
       "        [8.3307e-03, 2.7935e-01, 1.6567e-01, 5.6478e-02, 1.7778e-03],\n",
       "        [5.4171e-02, 4.5338e-01, 2.9923e-01, 5.4899e-01, 9.6317e-01]])"
      ]
     },
     "execution_count": 17,
     "metadata": {},
     "output_type": "execute_result"
    }
   ],
   "source": [
    "x * x"
   ]
  },
  {
   "attachments": {},
   "cell_type": "markdown",
   "metadata": {},
   "source": [
    "Multiplying a matrix by itself is obviously equivalent to computing its power, and it can be done also by running one of the following commands:"
   ]
  },
  {
   "cell_type": "code",
   "execution_count": 18,
   "metadata": {},
   "outputs": [
    {
     "name": "stdout",
     "output_type": "stream",
     "text": [
      "tensor([[1.3238e-04, 6.3946e-01, 1.2321e-01, 3.0301e-02, 1.5497e-01],\n",
      "        [1.4727e-01, 8.1417e-01, 1.8137e-01, 1.2000e-01, 3.3668e-01],\n",
      "        [8.3307e-03, 2.7935e-01, 1.6567e-01, 5.6478e-02, 1.7778e-03],\n",
      "        [5.4171e-02, 4.5338e-01, 2.9923e-01, 5.4899e-01, 9.6317e-01]])\n",
      "tensor([[1.3238e-04, 6.3946e-01, 1.2321e-01, 3.0301e-02, 1.5497e-01],\n",
      "        [1.4727e-01, 8.1417e-01, 1.8137e-01, 1.2000e-01, 3.3668e-01],\n",
      "        [8.3307e-03, 2.7935e-01, 1.6567e-01, 5.6478e-02, 1.7778e-03],\n",
      "        [5.4171e-02, 4.5338e-01, 2.9923e-01, 5.4899e-01, 9.6317e-01]])\n"
     ]
    }
   ],
   "source": [
    "print(th.pow(x, 2))\n",
    "print(x**2)"
   ]
  },
  {
   "attachments": {},
   "cell_type": "markdown",
   "metadata": {},
   "source": [
    "As in NumPy, there exists a `dot` function to compute the scalar product between vectors. Note that differently from NumPy, in torch this is **not** equivalent to matrix multiplication, as it is intended to work only with 1D vectors."
   ]
  },
  {
   "cell_type": "code",
   "execution_count": 19,
   "metadata": {},
   "outputs": [
    {
     "name": "stdout",
     "output_type": "stream",
     "text": [
      "torch.Size([4]) torch.Size([4])\n",
      "tensor(1.2484)\n",
      "tensor(1.2484)\n",
      "tensor(1.2484)\n"
     ]
    }
   ],
   "source": [
    "v1 = x[:, 1]\n",
    "v2 = x[:, 2]\n",
    "print(v1.shape, v2.shape)\n",
    "\n",
    "print(\n",
    "    v1.dot(v2)\n",
    ")  # in the case of 1D vectors, there is no difference between row and column vectors\n",
    "print(v1.matmul(v2))\n",
    "print(v1 @ v2)"
   ]
  },
  {
   "attachments": {},
   "cell_type": "markdown",
   "metadata": {},
   "source": [
    "If you want to do something fancier with two vectors, like multiplying a column by a row to obtain a matrix, you need to switch to 2D vectors by reshaping them.\n",
    "\n",
    "When you reshape a tensor, you can leave one dimension unspecified (using -1), as it can be inferred automatically by th."
   ]
  },
  {
   "cell_type": "code",
   "execution_count": 20,
   "metadata": {},
   "outputs": [
    {
     "name": "stdout",
     "output_type": "stream",
     "text": [
      "torch.Size([4, 1]) torch.Size([1, 4])\n",
      "tensor([[0.2807, 0.3406, 0.3255, 0.4374],\n",
      "        [0.3167, 0.3843, 0.3673, 0.4936],\n",
      "        [0.1855, 0.2251, 0.2151, 0.2891],\n",
      "        [0.2364, 0.2868, 0.2741, 0.3683]])\n"
     ]
    }
   ],
   "source": [
    "v1 = v1.reshape(-1, 1)  # column vector\n",
    "v2 = v2.reshape(1, -1)  # row vector\n",
    "\n",
    "print(v1.shape, v2.shape)\n",
    "print(v1 @ v2)"
   ]
  },
  {
   "cell_type": "code",
   "execution_count": 21,
   "metadata": {},
   "outputs": [],
   "source": [
    "# print(v1.dot(v2))    # this doesn't work! dot works only on 1D tensors"
   ]
  },
  {
   "attachments": {},
   "cell_type": "markdown",
   "metadata": {},
   "source": [
    "### Reduction operations"
   ]
  },
  {
   "cell_type": "code",
   "execution_count": 22,
   "metadata": {},
   "outputs": [
    {
     "name": "stdout",
     "output_type": "stream",
     "text": [
      "X: tensor([[[0.0868, 0.3113],\n",
      "         [0.7262, 0.8753],\n",
      "         [0.5142, 0.5419]],\n",
      "\n",
      "        [[0.6264, 0.5516],\n",
      "         [0.0195, 0.6374],\n",
      "         [0.8739, 0.4433]]])\n"
     ]
    }
   ],
   "source": [
    "x = th.rand(2, 3, 2)\n",
    "print(f\"X: {x}\")"
   ]
  },
  {
   "cell_type": "code",
   "execution_count": 23,
   "metadata": {},
   "outputs": [
    {
     "data": {
      "text/plain": [
       "(tensor(6.2080), tensor(6.2080))"
      ]
     },
     "execution_count": 23,
     "metadata": {},
     "output_type": "execute_result"
    }
   ],
   "source": [
    "x.sum(), th.sum(x)"
   ]
  },
  {
   "cell_type": "code",
   "execution_count": 24,
   "metadata": {},
   "outputs": [
    {
     "data": {
      "text/plain": [
       "(tensor(0.5173), tensor(0.5173))"
      ]
     },
     "execution_count": 24,
     "metadata": {},
     "output_type": "execute_result"
    }
   ],
   "source": [
    "x.mean(), th.mean(x)"
   ]
  },
  {
   "cell_type": "code",
   "execution_count": 25,
   "metadata": {},
   "outputs": [
    {
     "data": {
      "text/plain": [
       "(tensor(8), tensor(8))"
      ]
     },
     "execution_count": 25,
     "metadata": {},
     "output_type": "execute_result"
    }
   ],
   "source": [
    "x.argmin(), th.argmin(x)"
   ]
  },
  {
   "attachments": {},
   "cell_type": "markdown",
   "metadata": {},
   "source": [
    "It is sometimes useful to specify one or more dimensions to reduce (along which you want to perform your operations):"
   ]
  },
  {
   "cell_type": "code",
   "execution_count": 26,
   "metadata": {},
   "outputs": [
    {
     "data": {
      "text/plain": [
       "tensor([[0.3566, 0.4314],\n",
       "        [0.3729, 0.7564],\n",
       "        [0.6941, 0.4926]])"
      ]
     },
     "execution_count": 26,
     "metadata": {},
     "output_type": "execute_result"
    }
   ],
   "source": [
    "x.mean(dim=0)"
   ]
  },
  {
   "cell_type": "code",
   "execution_count": 27,
   "metadata": {},
   "outputs": [
    {
     "data": {
      "text/plain": [
       "tensor([[1, 1],\n",
       "        [2, 1]])"
      ]
     },
     "execution_count": 27,
     "metadata": {},
     "output_type": "execute_result"
    }
   ],
   "source": [
    "x.argmax(dim=1)"
   ]
  },
  {
   "cell_type": "code",
   "execution_count": 28,
   "metadata": {},
   "outputs": [
    {
     "data": {
      "text/plain": [
       "tensor([2.8472, 3.3609])"
      ]
     },
     "execution_count": 28,
     "metadata": {},
     "output_type": "execute_result"
    }
   ],
   "source": [
    "x.sum(dim=(0, 1))"
   ]
  },
  {
   "attachments": {},
   "cell_type": "markdown",
   "metadata": {},
   "source": [
    "## Example: Linear regression\n",
    "\n",
    "By using all the pieces we've seen till now, we can build our first *model* using PyTorch: a linear regressor, i.e.:\n",
    "\n",
    "$$\n",
    "y = XW + b\n",
    "$$\n",
    "\n",
    "which can also be simplified as:\n",
    "\n",
    "$$\n",
    "y = XW\n",
    "$$\n",
    "\n",
    "if we incorporate the bias $b$ inside $W$ and add to the $X$ a column of ones to the right.\n",
    "\n",
    "\n",
    "We start by generating our data. We randomly sample $X$ as a $N\\times P$ tensor, meaning that we have 1000 datapoints and 100 features and produce $y$ as:\n",
    "$$\n",
    "y=XM+\\mathcal{N}(0,I)\n",
    "$$\n",
    "where $M$ is a randomly drawn projection vector (shape $P\\times 1$, same as our weights).\n",
    "We are adding some iid gaussian noise on the $y$ to avoid the interpolation regime, in which we could be fitting our data perfectly using a linear model."
   ]
  },
  {
   "cell_type": "code",
   "execution_count": 29,
   "metadata": {},
   "outputs": [],
   "source": [
    "N = 1000\n",
    "P = 100\n",
    "X = th.rand(N, P)\n",
    "M = th.rand(P, 1)\n",
    "y = X @ M + th.normal(th.zeros(N, 1), th.ones(N, 1))"
   ]
  },
  {
   "attachments": {},
   "cell_type": "markdown",
   "metadata": {},
   "source": [
    "We can add a column of ones to $X$ to include the bias:"
   ]
  },
  {
   "cell_type": "code",
   "execution_count": 30,
   "metadata": {},
   "outputs": [],
   "source": [
    "X = th.cat([X, th.ones(N, 1)], dim=1)"
   ]
  },
  {
   "attachments": {},
   "cell_type": "markdown",
   "metadata": {},
   "source": [
    "The regression can be fit with classical statistical methods such as Ordinary Least Squares, and the optimal $W$ has the form:\n",
    "\n",
    "$$\n",
    "W^*=(X^TX)^{-1}X^Ty\n",
    "$$\n"
   ]
  },
  {
   "cell_type": "code",
   "execution_count": 31,
   "metadata": {},
   "outputs": [],
   "source": [
    "W_star = ((X.T @ X).inverse()) @ X.T @ y"
   ]
  },
  {
   "attachments": {},
   "cell_type": "markdown",
   "metadata": {},
   "source": [
    "To assess the quality of this fit we can evaluate the Mean Squared Error (MSE) between the original $y$ and the prediction:"
   ]
  },
  {
   "cell_type": "code",
   "execution_count": 32,
   "metadata": {},
   "outputs": [
    {
     "data": {
      "text/plain": [
       "tensor(0.9004)"
      ]
     },
     "execution_count": 32,
     "metadata": {},
     "output_type": "execute_result"
    }
   ],
   "source": [
    "th.nn.functional.mse_loss(X @ W_star, y)"
   ]
  },
  {
   "attachments": {},
   "cell_type": "markdown",
   "metadata": {},
   "source": [
    "## Why not just `numpy` (1): Automatic differentiation"
   ]
  },
  {
   "attachments": {},
   "cell_type": "markdown",
   "metadata": {},
   "source": [
    "Let's take a look at how ``autograd`` collects gradients. We create two tensors ``a`` and ``b`` with\n",
    "``requires_grad=True``. This signals to ``autograd`` that every operation on them should be tracked."
   ]
  },
  {
   "cell_type": "code",
   "execution_count": 33,
   "metadata": {},
   "outputs": [],
   "source": [
    "a = th.tensor([2.0, 3.0], requires_grad=True)\n",
    "b = th.tensor([6.0, 4.0], requires_grad=True)"
   ]
  },
  {
   "attachments": {},
   "cell_type": "markdown",
   "metadata": {},
   "source": [
    "We create another tensor ``Q`` from ``a`` and ``b``.\n",
    "\n",
    "\\begin{align}Q = 3a^3 - b^2\\end{align}\n",
    "\n"
   ]
  },
  {
   "cell_type": "code",
   "execution_count": 34,
   "metadata": {},
   "outputs": [],
   "source": [
    "Q = 3 * a**3 - b**2"
   ]
  },
  {
   "attachments": {},
   "cell_type": "markdown",
   "metadata": {},
   "source": [
    "We want to compute the gradients of ``Q`` w.r.t. ``a`` and ``b``, i.e.:\n",
    "\n",
    "\\begin{align}\\frac{\\partial Q}{\\partial a} = 9a^2\\end{align}\n",
    "\n",
    "\\begin{align}\\frac{\\partial Q}{\\partial b} = -2b\\end{align}\n",
    "\n",
    "We can do this by calling ``.backward()`` on any **scalar** function of ``Q``:"
   ]
  },
  {
   "cell_type": "code",
   "execution_count": 35,
   "metadata": {},
   "outputs": [],
   "source": [
    "Q.sum().backward()"
   ]
  },
  {
   "cell_type": "code",
   "execution_count": 36,
   "metadata": {},
   "outputs": [
    {
     "name": "stdout",
     "output_type": "stream",
     "text": [
      "tensor([True, True])\n",
      "tensor([True, True])\n"
     ]
    }
   ],
   "source": [
    "# check if collected gradients are correct\n",
    "print(9 * a**2 == a.grad)\n",
    "print(-2 * b == b.grad)"
   ]
  },
  {
   "attachments": {},
   "cell_type": "markdown",
   "metadata": {},
   "source": [
    "## Why not just `numpy` (2): GPU Acceleration"
   ]
  },
  {
   "cell_type": "code",
   "execution_count": 37,
   "metadata": {},
   "outputs": [
    {
     "name": "stdout",
     "output_type": "stream",
     "text": [
      "tensor([[255.6709, 250.9626, 250.5085,  ..., 250.6259, 247.4780, 260.9814],\n",
      "        [252.5892, 243.0260, 242.4091,  ..., 245.3009, 242.6892, 250.9973],\n",
      "        [256.8336, 250.1258, 244.9961,  ..., 247.6424, 239.4887, 258.1257],\n",
      "        ...,\n",
      "        [254.9937, 239.6047, 242.8213,  ..., 246.0543, 241.6772, 255.3834],\n",
      "        [258.1039, 248.5307, 245.7037,  ..., 250.8511, 247.7471, 252.2103],\n",
      "        [249.8258, 244.6473, 244.7070,  ..., 247.4586, 237.3992, 255.7619]])\n"
     ]
    }
   ],
   "source": [
    "a = th.rand(1000, 1000)\n",
    "b = th.rand(1000, 1000)\n",
    "print(th.matmul(a, b))"
   ]
  },
  {
   "cell_type": "code",
   "execution_count": 41,
   "metadata": {},
   "outputs": [],
   "source": [
    "for _ in range(1000):\n",
    "    r = th.matmul(a, b)"
   ]
  },
  {
   "cell_type": "code",
   "execution_count": 39,
   "metadata": {},
   "outputs": [
    {
     "name": "stdout",
     "output_type": "stream",
     "text": [
      "tensor([[255.6709, 250.9626, 250.5086,  ..., 250.6259, 247.4780, 260.9814],\n",
      "        [252.5891, 243.0261, 242.4091,  ..., 245.3009, 242.6891, 250.9973],\n",
      "        [256.8337, 250.1258, 244.9962,  ..., 247.6424, 239.4886, 258.1257],\n",
      "        ...,\n",
      "        [254.9937, 239.6048, 242.8213,  ..., 246.0543, 241.6772, 255.3834],\n",
      "        [258.1039, 248.5307, 245.7037,  ..., 250.8510, 247.7470, 252.2103],\n",
      "        [249.8258, 244.6472, 244.7069,  ..., 247.4586, 237.3992, 255.7618]],\n",
      "       device='cuda:0')\n"
     ]
    }
   ],
   "source": [
    "a_cuda = a.cuda()  # Or, generally: a.to(device)\n",
    "b_cuda = b.cuda()  # Or, generally: a.to(device)\n",
    "print(th.matmul(a_cuda, b_cuda))"
   ]
  },
  {
   "cell_type": "code",
   "execution_count": 42,
   "metadata": {},
   "outputs": [],
   "source": [
    "for _ in range(1000):\n",
    "    r = th.matmul(a_cuda, b_cuda)"
   ]
  }
 ],
 "metadata": {
  "kernelspec": {
   "display_name": "Python 3",
   "language": "python",
   "name": "python3"
  },
  "language_info": {
   "codemirror_mode": {
    "name": "ipython",
    "version": 3
   },
   "file_extension": ".py",
   "mimetype": "text/x-python",
   "name": "python",
   "nbconvert_exporter": "python",
   "pygments_lexer": "ipython3",
   "version": "3.10.8"
  },
  "orig_nbformat": 4
 },
 "nbformat": 4,
 "nbformat_minor": 2
}
