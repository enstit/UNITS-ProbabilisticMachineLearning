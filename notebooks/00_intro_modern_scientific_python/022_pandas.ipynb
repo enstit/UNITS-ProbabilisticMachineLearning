{
 "cells": [
  {
   "attachments": {},
   "cell_type": "markdown",
   "metadata": {},
   "source": [
    "# Notebook 2.2: Introduction to `pandas`\n",
    "\n",
    "Probabilistic Machine Learning -- Spring 2023, UniTS\n",
    "\n",
    "Adapted from previous work from [Gaia Saveri](https://www.linkedin.com/in/gaia-saveri-b7059a1b7) and [Ilaria Vascotto](https://www.linkedin.com/in/ilariavascotto)."
   ]
  },
  {
   "attachments": {},
   "cell_type": "markdown",
   "metadata": {
    "id": "YneEBH1gDUgs"
   },
   "source": [
    "## What is `pandas`?\n",
    "\n",
    "`pandas` is an open source Python library for data handling, structuring, and ultimately analysis.\n",
    "\n",
    "## Core data structures\n",
    "\n",
    "`pandas` introduces two new data structures: `Series` and `DataFrame`. \n",
    "\n",
    "### Series\n",
    "\n",
    "A Series in a one-dimensional object (similar to an array, list, or column in a table). A labeled index is assigned to each item in the Series (the default are 0-N indeces, being N the length of the Series minus one)."
   ]
  },
  {
   "cell_type": "code",
   "execution_count": 1,
   "metadata": {
    "id": "tLO0oCSlDUgt"
   },
   "outputs": [],
   "source": [
    "import os\n",
    "\n",
    "import numpy as np\n",
    "\n",
    "import pandas as pd\n",
    "\n",
    "import matplotlib.pyplot as plt"
   ]
  },
  {
   "cell_type": "code",
   "execution_count": 2,
   "metadata": {
    "id": "-dOPazsLHPJ5"
   },
   "outputs": [
    {
     "name": "stdout",
     "output_type": "stream",
     "text": [
      "Series with default index: \n",
      "0              7\n",
      "1    Hello world\n",
      "2          42.26\n",
      "dtype: object\n"
     ]
    }
   ],
   "source": [
    "# Create a series from a list\n",
    "s = pd.Series([7, \"Hello world\", 42.26])\n",
    "\n",
    "print(f\"Series with default index: \\n{s}\")"
   ]
  },
  {
   "cell_type": "code",
   "execution_count": 3,
   "metadata": {
    "id": "MY0xXyjMHRBZ"
   },
   "outputs": [
    {
     "name": "stdout",
     "output_type": "stream",
     "text": [
      "\n",
      "Series with user-defined index: \n",
      "A       2\n",
      "B    True\n",
      "C     Hey\n",
      "dtype: object\n"
     ]
    }
   ],
   "source": [
    "# Create a series with a user-defined index\n",
    "series_with_index = pd.Series([2, True, \"Hey\"], index=[\"A\", \"B\", \"C\"])\n",
    "\n",
    "print(f\"\\nSeries with user-defined index: \\n{series_with_index}\")"
   ]
  },
  {
   "cell_type": "code",
   "execution_count": 4,
   "metadata": {
    "id": "DvQjBTozHT7L"
   },
   "outputs": [
    {
     "name": "stdout",
     "output_type": "stream",
     "text": [
      "\n",
      "Series from dictionary: \n",
      "One      1\n",
      "Two      2\n",
      "Three    3\n",
      "dtype: int64\n"
     ]
    }
   ],
   "source": [
    "# Create a series from dictionary\n",
    "# In this case the index is defined from the keys of the dictionary\n",
    "d = {\"One\": 1, \"Two\": 2, \"Three\": 3}\n",
    "\n",
    "series_from_dict = pd.Series(d)\n",
    "\n",
    "print(f\"\\nSeries from dictionary: \\n{series_from_dict}\")"
   ]
  },
  {
   "cell_type": "code",
   "execution_count": 5,
   "metadata": {
    "id": "eMkiXOC6HVPY"
   },
   "outputs": [
    {
     "name": "stdout",
     "output_type": "stream",
     "text": [
      "\n",
      "Cities Series: \n",
      "Chicago          1000.0\n",
      "New York         1300.0\n",
      "Portland          900.0\n",
      "San Francisco    1100.0\n",
      "Austin            450.0\n",
      "Boston              NaN\n",
      "dtype: float64\n"
     ]
    }
   ],
   "source": [
    "# Indexing series\n",
    "dd = {\n",
    "    \"Chicago\": 1000,\n",
    "    \"New York\": 1300,\n",
    "    \"Portland\": 900,\n",
    "    \"San Francisco\": 1100,\n",
    "    \"Austin\": 450,\n",
    "    \"Boston\": None,\n",
    "}\n",
    "cities = pd.Series(dd)\n",
    "\n",
    "print(f\"\\nCities Series: \\n{cities}\")"
   ]
  },
  {
   "cell_type": "code",
   "execution_count": 6,
   "metadata": {
    "id": "KAjH7cTrHWPW"
   },
   "outputs": [
    {
     "name": "stdout",
     "output_type": "stream",
     "text": [
      "New York         1300.0\n",
      "San Francisco    1100.0\n",
      "Boston              NaN\n",
      "dtype: float64\n"
     ]
    }
   ],
   "source": [
    "# Use of the index to select specific items (by \"name\")\n",
    "c = cities[[\"New York\", \"San Francisco\", \"Boston\"]]\n",
    "print(c)"
   ]
  },
  {
   "cell_type": "code",
   "execution_count": 7,
   "metadata": {
    "id": "Ot8wBcR1H630"
   },
   "outputs": [
    {
     "name": "stdout",
     "output_type": "stream",
     "text": [
      "Portland    900.0\n",
      "Austin      450.0\n",
      "dtype: float64\n"
     ]
    }
   ],
   "source": [
    "# Use of boolean indexing for selection (by \"property\")\n",
    "cc = cities[cities < 1000]\n",
    "print(cc)"
   ]
  },
  {
   "cell_type": "code",
   "execution_count": 8,
   "metadata": {
    "id": "m7SodyAXIAA3"
   },
   "outputs": [
    {
     "data": {
      "text/plain": [
       "Chicago          1000.0\n",
       "New York         1300.0\n",
       "Portland          900.0\n",
       "San Francisco    1100.0\n",
       "Austin            500.0\n",
       "Boston              NaN\n",
       "dtype: float64"
      ]
     },
     "execution_count": 8,
     "metadata": {},
     "output_type": "execute_result"
    }
   ],
   "source": [
    "# Change the value within a Series\n",
    "cities[\"Austin\"] = 500\n",
    "cities"
   ]
  },
  {
   "cell_type": "code",
   "execution_count": 9,
   "metadata": {
    "id": "Rsg8asUmIEiL"
   },
   "outputs": [
    {
     "name": "stdout",
     "output_type": "stream",
     "text": [
      "\n",
      "s1: \n",
      "A    1\n",
      "B    2\n",
      "C    3\n",
      "dtype: int64\n",
      "\n",
      "s2: \n",
      "A    4\n",
      "D    5\n",
      "C    6\n",
      "dtype: int64\n",
      "\n",
      "s1 + s2: \n",
      "A    5.0\n",
      "B    NaN\n",
      "C    9.0\n",
      "D    NaN\n",
      "dtype: float64\n"
     ]
    }
   ],
   "source": [
    "# \"Addition\" of two series\n",
    "# Returns a union of the two series with the addition of same-indexed values, NaN for missing values\n",
    "s1 = pd.Series([1, 2, 3], index=[\"A\", \"B\", \"C\"])\n",
    "s2 = pd.Series([4, 5, 6], index=[\"A\", \"D\", \"C\"])\n",
    "\n",
    "print(f\"\\ns1: \\n{s1}\")\n",
    "print(f\"\\ns2: \\n{s2}\")\n",
    "print(f\"\\ns1 + s2: \\n{s1 + s2}\")"
   ]
  },
  {
   "cell_type": "code",
   "execution_count": 10,
   "metadata": {
    "id": "AJ_pt2iwHfkd"
   },
   "outputs": [
    {
     "name": "stdout",
     "output_type": "stream",
     "text": [
      "\n",
      "Non-null elements in cities (notnull): \n",
      "Chicago           True\n",
      "New York          True\n",
      "Portland          True\n",
      "San Francisco     True\n",
      "Austin            True\n",
      "Boston           False\n",
      "dtype: bool\n",
      "\n",
      "Null elements in cities (isnull): \n",
      "Boston   NaN\n",
      "dtype: float64\n"
     ]
    }
   ],
   "source": [
    "# Null Checking\n",
    "# The isnull and notnull functions return boolean values indicating whether values are null or not\n",
    "\n",
    "not_null = cities.notnull()\n",
    "print(f\"\\nNon-null elements in cities (notnull): \\n{not_null}\")\n",
    "\n",
    "\n",
    "is_null = cities.isnull()\n",
    "is_null_cities = cities[is_null]\n",
    "print(f\"\\nNull elements in cities (isnull): \\n{is_null_cities}\")"
   ]
  },
  {
   "attachments": {},
   "cell_type": "markdown",
   "metadata": {
    "id": "xBHxj00nDUgv"
   },
   "source": [
    "### DataFrame\n",
    "\n",
    "A `DataFrame` is a tabular data structure comprised of rows and columns. It can be thought of as a group of Series objects that share an index (the columns' name). \n",
    "\n",
    "#### Reading data\n",
    "\n",
    "In order to create manually a DataFrame we can pass a dictionary of lists to the DataFrame constructor:"
   ]
  },
  {
   "cell_type": "code",
   "execution_count": 11,
   "metadata": {
    "id": "VdvJ_zStDUgv"
   },
   "outputs": [
    {
     "name": "stdout",
     "output_type": "stream",
     "text": [
      "  letters  numbers spelling\n",
      "0       A        1      One\n",
      "1       B        2      Two\n",
      "2       C        3    Three\n",
      "3       D        4     Four\n"
     ]
    }
   ],
   "source": [
    "data = {\n",
    "    \"letters\": [\"A\", \"B\", \"C\", \"D\"],\n",
    "    \"numbers\": [1, 2, 3, 4],\n",
    "    \"spelling\": [\"One\", \"Two\", \"Three\", \"Four\"],\n",
    "}\n",
    "\n",
    "letters_numbers = pd.DataFrame(data, columns=[\"letters\", \"numbers\", \"spelling\"])\n",
    "print(letters_numbers)"
   ]
  },
  {
   "cell_type": "markdown",
   "metadata": {
    "id": "25LxDgdaDUgv"
   },
   "source": [
    "More often we have a dataset that we want to read into a DataFrame.\n",
    "\n",
    "The most common formats are *CSV* and *excel*, they are read using the functions `read_csv` and `read_excel` respectively."
   ]
  },
  {
   "cell_type": "code",
   "execution_count": 12,
   "metadata": {
    "id": "pLdohNRDTfqR"
   },
   "outputs": [
    {
     "name": "stdout",
     "output_type": "stream",
     "text": [
      "File already exists!\n",
      "File is readable!\n"
     ]
    }
   ],
   "source": [
    "FFILE = \"./Dry_Bean_Dataset.xlsx\"\n",
    "\n",
    "if os.path.isfile(FFILE):\n",
    "    print(\"File already exists!\")\n",
    "    if os.access(FFILE, os.R_OK):\n",
    "        print(\"File is readable!\")\n",
    "    else:\n",
    "        print(\"File is not readable, removing it and downloading again!\")\n",
    "        !rm FFILE\n",
    "        !wget \"https://raw.github.com/alexdepremia/ML_IADA_UTs/main/Lab5/Dry_Bean_Dataset.xlsx\"\n",
    "else:\n",
    "    print(\"Either the file is missing or not readable, download it!\")\n",
    "    !wget \"https://raw.github.com/alexdepremia/ML_IADA_UTs/main/Lab5/Dry_Bean_Dataset.xlsx\""
   ]
  },
  {
   "cell_type": "code",
   "execution_count": 13,
   "metadata": {
    "id": "JJG7sYSUDUgv"
   },
   "outputs": [
    {
     "data": {
      "text/html": [
       "<div>\n",
       "<style scoped>\n",
       "    .dataframe tbody tr th:only-of-type {\n",
       "        vertical-align: middle;\n",
       "    }\n",
       "\n",
       "    .dataframe tbody tr th {\n",
       "        vertical-align: top;\n",
       "    }\n",
       "\n",
       "    .dataframe thead th {\n",
       "        text-align: right;\n",
       "    }\n",
       "</style>\n",
       "<table border=\"1\" class=\"dataframe\">\n",
       "  <thead>\n",
       "    <tr style=\"text-align: right;\">\n",
       "      <th></th>\n",
       "      <th>Area</th>\n",
       "      <th>Perimeter</th>\n",
       "      <th>MajorAxisLength</th>\n",
       "      <th>MinorAxisLength</th>\n",
       "      <th>AspectRation</th>\n",
       "      <th>Eccentricity</th>\n",
       "      <th>ConvexArea</th>\n",
       "      <th>EquivDiameter</th>\n",
       "      <th>Extent</th>\n",
       "      <th>Solidity</th>\n",
       "      <th>roundness</th>\n",
       "      <th>Compactness</th>\n",
       "      <th>ShapeFactor1</th>\n",
       "      <th>ShapeFactor2</th>\n",
       "      <th>ShapeFactor3</th>\n",
       "      <th>ShapeFactor4</th>\n",
       "      <th>Class</th>\n",
       "    </tr>\n",
       "  </thead>\n",
       "  <tbody>\n",
       "    <tr>\n",
       "      <th>0</th>\n",
       "      <td>28395</td>\n",
       "      <td>610.291</td>\n",
       "      <td>208.178117</td>\n",
       "      <td>173.888747</td>\n",
       "      <td>1.197191</td>\n",
       "      <td>0.549812</td>\n",
       "      <td>28715</td>\n",
       "      <td>190.141097</td>\n",
       "      <td>0.763923</td>\n",
       "      <td>0.988856</td>\n",
       "      <td>0.958027</td>\n",
       "      <td>0.913358</td>\n",
       "      <td>0.007332</td>\n",
       "      <td>0.003147</td>\n",
       "      <td>0.834222</td>\n",
       "      <td>0.998724</td>\n",
       "      <td>SEKER</td>\n",
       "    </tr>\n",
       "    <tr>\n",
       "      <th>1</th>\n",
       "      <td>28734</td>\n",
       "      <td>638.018</td>\n",
       "      <td>200.524796</td>\n",
       "      <td>182.734419</td>\n",
       "      <td>1.097356</td>\n",
       "      <td>0.411785</td>\n",
       "      <td>29172</td>\n",
       "      <td>191.272750</td>\n",
       "      <td>0.783968</td>\n",
       "      <td>0.984986</td>\n",
       "      <td>0.887034</td>\n",
       "      <td>0.953861</td>\n",
       "      <td>0.006979</td>\n",
       "      <td>0.003564</td>\n",
       "      <td>0.909851</td>\n",
       "      <td>0.998430</td>\n",
       "      <td>SEKER</td>\n",
       "    </tr>\n",
       "    <tr>\n",
       "      <th>2</th>\n",
       "      <td>29380</td>\n",
       "      <td>624.110</td>\n",
       "      <td>212.826130</td>\n",
       "      <td>175.931143</td>\n",
       "      <td>1.209713</td>\n",
       "      <td>0.562727</td>\n",
       "      <td>29690</td>\n",
       "      <td>193.410904</td>\n",
       "      <td>0.778113</td>\n",
       "      <td>0.989559</td>\n",
       "      <td>0.947849</td>\n",
       "      <td>0.908774</td>\n",
       "      <td>0.007244</td>\n",
       "      <td>0.003048</td>\n",
       "      <td>0.825871</td>\n",
       "      <td>0.999066</td>\n",
       "      <td>SEKER</td>\n",
       "    </tr>\n",
       "    <tr>\n",
       "      <th>3</th>\n",
       "      <td>30008</td>\n",
       "      <td>645.884</td>\n",
       "      <td>210.557999</td>\n",
       "      <td>182.516516</td>\n",
       "      <td>1.153638</td>\n",
       "      <td>0.498616</td>\n",
       "      <td>30724</td>\n",
       "      <td>195.467062</td>\n",
       "      <td>0.782681</td>\n",
       "      <td>0.976696</td>\n",
       "      <td>0.903936</td>\n",
       "      <td>0.928329</td>\n",
       "      <td>0.007017</td>\n",
       "      <td>0.003215</td>\n",
       "      <td>0.861794</td>\n",
       "      <td>0.994199</td>\n",
       "      <td>SEKER</td>\n",
       "    </tr>\n",
       "    <tr>\n",
       "      <th>4</th>\n",
       "      <td>30140</td>\n",
       "      <td>620.134</td>\n",
       "      <td>201.847882</td>\n",
       "      <td>190.279279</td>\n",
       "      <td>1.060798</td>\n",
       "      <td>0.333680</td>\n",
       "      <td>30417</td>\n",
       "      <td>195.896503</td>\n",
       "      <td>0.773098</td>\n",
       "      <td>0.990893</td>\n",
       "      <td>0.984877</td>\n",
       "      <td>0.970516</td>\n",
       "      <td>0.006697</td>\n",
       "      <td>0.003665</td>\n",
       "      <td>0.941900</td>\n",
       "      <td>0.999166</td>\n",
       "      <td>SEKER</td>\n",
       "    </tr>\n",
       "  </tbody>\n",
       "</table>\n",
       "</div>"
      ],
      "text/plain": [
       "    Area  Perimeter  MajorAxisLength  MinorAxisLength  AspectRation  \\\n",
       "0  28395    610.291       208.178117       173.888747      1.197191   \n",
       "1  28734    638.018       200.524796       182.734419      1.097356   \n",
       "2  29380    624.110       212.826130       175.931143      1.209713   \n",
       "3  30008    645.884       210.557999       182.516516      1.153638   \n",
       "4  30140    620.134       201.847882       190.279279      1.060798   \n",
       "\n",
       "   Eccentricity  ConvexArea  EquivDiameter    Extent  Solidity  roundness  \\\n",
       "0      0.549812       28715     190.141097  0.763923  0.988856   0.958027   \n",
       "1      0.411785       29172     191.272750  0.783968  0.984986   0.887034   \n",
       "2      0.562727       29690     193.410904  0.778113  0.989559   0.947849   \n",
       "3      0.498616       30724     195.467062  0.782681  0.976696   0.903936   \n",
       "4      0.333680       30417     195.896503  0.773098  0.990893   0.984877   \n",
       "\n",
       "   Compactness  ShapeFactor1  ShapeFactor2  ShapeFactor3  ShapeFactor4  Class  \n",
       "0     0.913358      0.007332      0.003147      0.834222      0.998724  SEKER  \n",
       "1     0.953861      0.006979      0.003564      0.909851      0.998430  SEKER  \n",
       "2     0.908774      0.007244      0.003048      0.825871      0.999066  SEKER  \n",
       "3     0.928329      0.007017      0.003215      0.861794      0.994199  SEKER  \n",
       "4     0.970516      0.006697      0.003665      0.941900      0.999166  SEKER  "
      ]
     },
     "execution_count": 13,
     "metadata": {},
     "output_type": "execute_result"
    }
   ],
   "source": [
    "# Import of an Excel dataset\n",
    "drybeans = pd.read_excel(\"./Dry_Bean_Dataset.xlsx\")\n",
    "# head(n) shows the first n rows (default is n=5)\n",
    "drybeans.head()"
   ]
  },
  {
   "cell_type": "code",
   "execution_count": 14,
   "metadata": {
    "id": "_OfGkfFZDUgw"
   },
   "outputs": [
    {
     "data": {
      "text/html": [
       "<div>\n",
       "<style scoped>\n",
       "    .dataframe tbody tr th:only-of-type {\n",
       "        vertical-align: middle;\n",
       "    }\n",
       "\n",
       "    .dataframe tbody tr th {\n",
       "        vertical-align: top;\n",
       "    }\n",
       "\n",
       "    .dataframe thead th {\n",
       "        text-align: right;\n",
       "    }\n",
       "</style>\n",
       "<table border=\"1\" class=\"dataframe\">\n",
       "  <thead>\n",
       "    <tr style=\"text-align: right;\">\n",
       "      <th></th>\n",
       "      <th>Unnamed: 0</th>\n",
       "      <th>score_phrase</th>\n",
       "      <th>title</th>\n",
       "      <th>url</th>\n",
       "      <th>platform</th>\n",
       "      <th>score</th>\n",
       "      <th>genre</th>\n",
       "      <th>editors_choice</th>\n",
       "      <th>release_year</th>\n",
       "      <th>release_month</th>\n",
       "      <th>release_day</th>\n",
       "    </tr>\n",
       "  </thead>\n",
       "  <tbody>\n",
       "    <tr>\n",
       "      <th>0</th>\n",
       "      <td>0</td>\n",
       "      <td>Amazing</td>\n",
       "      <td>LittleBigPlanet PS Vita</td>\n",
       "      <td>/games/littlebigplanet-vita/vita-98907</td>\n",
       "      <td>PlayStation Vita</td>\n",
       "      <td>9.0</td>\n",
       "      <td>Platformer</td>\n",
       "      <td>Y</td>\n",
       "      <td>2012</td>\n",
       "      <td>9</td>\n",
       "      <td>12</td>\n",
       "    </tr>\n",
       "    <tr>\n",
       "      <th>1</th>\n",
       "      <td>1</td>\n",
       "      <td>Amazing</td>\n",
       "      <td>LittleBigPlanet PS Vita -- Marvel Super Hero E...</td>\n",
       "      <td>/games/littlebigplanet-ps-vita-marvel-super-he...</td>\n",
       "      <td>PlayStation Vita</td>\n",
       "      <td>9.0</td>\n",
       "      <td>Platformer</td>\n",
       "      <td>Y</td>\n",
       "      <td>2012</td>\n",
       "      <td>9</td>\n",
       "      <td>12</td>\n",
       "    </tr>\n",
       "    <tr>\n",
       "      <th>2</th>\n",
       "      <td>2</td>\n",
       "      <td>Great</td>\n",
       "      <td>Splice: Tree of Life</td>\n",
       "      <td>/games/splice/ipad-141070</td>\n",
       "      <td>iPad</td>\n",
       "      <td>8.5</td>\n",
       "      <td>Puzzle</td>\n",
       "      <td>N</td>\n",
       "      <td>2012</td>\n",
       "      <td>9</td>\n",
       "      <td>12</td>\n",
       "    </tr>\n",
       "  </tbody>\n",
       "</table>\n",
       "</div>"
      ],
      "text/plain": [
       "   Unnamed: 0 score_phrase                                              title  \\\n",
       "0           0      Amazing                            LittleBigPlanet PS Vita   \n",
       "1           1      Amazing  LittleBigPlanet PS Vita -- Marvel Super Hero E...   \n",
       "2           2        Great                               Splice: Tree of Life   \n",
       "\n",
       "                                                 url          platform  score  \\\n",
       "0             /games/littlebigplanet-vita/vita-98907  PlayStation Vita    9.0   \n",
       "1  /games/littlebigplanet-ps-vita-marvel-super-he...  PlayStation Vita    9.0   \n",
       "2                          /games/splice/ipad-141070              iPad    8.5   \n",
       "\n",
       "        genre editors_choice  release_year  release_month  release_day  \n",
       "0  Platformer              Y          2012              9           12  \n",
       "1  Platformer              Y          2012              9           12  \n",
       "2      Puzzle              N          2012              9           12  "
      ]
     },
     "execution_count": 14,
     "metadata": {},
     "output_type": "execute_result"
    }
   ],
   "source": [
    "# Import of a csv dataset\n",
    "path_csv = \"https://raw.githubusercontent.com/GaiaSaveri/intro-to-ml/main/data/ign.csv\"\n",
    "reviews = pd.read_csv(path_csv)\n",
    "reviews.head(3)"
   ]
  },
  {
   "attachments": {},
   "cell_type": "markdown",
   "metadata": {
    "id": "1E17iFWYDUgw"
   },
   "source": [
    "#### Indexing\n",
    "\n",
    "`pandas` supports several methods for indexing data in a table:\n",
    "\n",
    "* `iloc` (integer based indexing): refers to rows and columns by their position, expressed as an integer starting from zero;\n",
    "* `loc` (label based indexing): uses row and column name;\n",
    "* Boolean indexing: uses boolean masks. Row names are stored in the field `index` of a data frame, columns names are stored in the field `columns`. \n",
    "\n",
    "We can observe that the csv-imported dataset has a discrepancy: the columns are shifted one position to the right with respect to the labels. We can fix this problem with the `iloc` method:"
   ]
  },
  {
   "cell_type": "code",
   "execution_count": 15,
   "metadata": {
    "id": "wr1MxHy9DUgw"
   },
   "outputs": [
    {
     "data": {
      "text/html": [
       "<div>\n",
       "<style scoped>\n",
       "    .dataframe tbody tr th:only-of-type {\n",
       "        vertical-align: middle;\n",
       "    }\n",
       "\n",
       "    .dataframe tbody tr th {\n",
       "        vertical-align: top;\n",
       "    }\n",
       "\n",
       "    .dataframe thead th {\n",
       "        text-align: right;\n",
       "    }\n",
       "</style>\n",
       "<table border=\"1\" class=\"dataframe\">\n",
       "  <thead>\n",
       "    <tr style=\"text-align: right;\">\n",
       "      <th></th>\n",
       "      <th>score_phrase</th>\n",
       "      <th>title</th>\n",
       "      <th>url</th>\n",
       "      <th>platform</th>\n",
       "      <th>score</th>\n",
       "      <th>genre</th>\n",
       "      <th>editors_choice</th>\n",
       "      <th>release_year</th>\n",
       "      <th>release_month</th>\n",
       "      <th>release_day</th>\n",
       "    </tr>\n",
       "  </thead>\n",
       "  <tbody>\n",
       "    <tr>\n",
       "      <th>0</th>\n",
       "      <td>Amazing</td>\n",
       "      <td>LittleBigPlanet PS Vita</td>\n",
       "      <td>/games/littlebigplanet-vita/vita-98907</td>\n",
       "      <td>PlayStation Vita</td>\n",
       "      <td>9.0</td>\n",
       "      <td>Platformer</td>\n",
       "      <td>Y</td>\n",
       "      <td>2012</td>\n",
       "      <td>9</td>\n",
       "      <td>12</td>\n",
       "    </tr>\n",
       "    <tr>\n",
       "      <th>1</th>\n",
       "      <td>Amazing</td>\n",
       "      <td>LittleBigPlanet PS Vita -- Marvel Super Hero E...</td>\n",
       "      <td>/games/littlebigplanet-ps-vita-marvel-super-he...</td>\n",
       "      <td>PlayStation Vita</td>\n",
       "      <td>9.0</td>\n",
       "      <td>Platformer</td>\n",
       "      <td>Y</td>\n",
       "      <td>2012</td>\n",
       "      <td>9</td>\n",
       "      <td>12</td>\n",
       "    </tr>\n",
       "    <tr>\n",
       "      <th>2</th>\n",
       "      <td>Great</td>\n",
       "      <td>Splice: Tree of Life</td>\n",
       "      <td>/games/splice/ipad-141070</td>\n",
       "      <td>iPad</td>\n",
       "      <td>8.5</td>\n",
       "      <td>Puzzle</td>\n",
       "      <td>N</td>\n",
       "      <td>2012</td>\n",
       "      <td>9</td>\n",
       "      <td>12</td>\n",
       "    </tr>\n",
       "    <tr>\n",
       "      <th>3</th>\n",
       "      <td>Great</td>\n",
       "      <td>NHL 13</td>\n",
       "      <td>/games/nhl-13/xbox-360-128182</td>\n",
       "      <td>Xbox 360</td>\n",
       "      <td>8.5</td>\n",
       "      <td>Sports</td>\n",
       "      <td>N</td>\n",
       "      <td>2012</td>\n",
       "      <td>9</td>\n",
       "      <td>11</td>\n",
       "    </tr>\n",
       "    <tr>\n",
       "      <th>4</th>\n",
       "      <td>Great</td>\n",
       "      <td>NHL 13</td>\n",
       "      <td>/games/nhl-13/ps3-128181</td>\n",
       "      <td>PlayStation 3</td>\n",
       "      <td>8.5</td>\n",
       "      <td>Sports</td>\n",
       "      <td>N</td>\n",
       "      <td>2012</td>\n",
       "      <td>9</td>\n",
       "      <td>11</td>\n",
       "    </tr>\n",
       "  </tbody>\n",
       "</table>\n",
       "</div>"
      ],
      "text/plain": [
       "  score_phrase                                              title  \\\n",
       "0      Amazing                            LittleBigPlanet PS Vita   \n",
       "1      Amazing  LittleBigPlanet PS Vita -- Marvel Super Hero E...   \n",
       "2        Great                               Splice: Tree of Life   \n",
       "3        Great                                             NHL 13   \n",
       "4        Great                                             NHL 13   \n",
       "\n",
       "                                                 url          platform  score  \\\n",
       "0             /games/littlebigplanet-vita/vita-98907  PlayStation Vita    9.0   \n",
       "1  /games/littlebigplanet-ps-vita-marvel-super-he...  PlayStation Vita    9.0   \n",
       "2                          /games/splice/ipad-141070              iPad    8.5   \n",
       "3                      /games/nhl-13/xbox-360-128182          Xbox 360    8.5   \n",
       "4                           /games/nhl-13/ps3-128181     PlayStation 3    8.5   \n",
       "\n",
       "        genre editors_choice  release_year  release_month  release_day  \n",
       "0  Platformer              Y          2012              9           12  \n",
       "1  Platformer              Y          2012              9           12  \n",
       "2      Puzzle              N          2012              9           12  \n",
       "3      Sports              N          2012              9           11  \n",
       "4      Sports              N          2012              9           11  "
      ]
     },
     "execution_count": 15,
     "metadata": {},
     "output_type": "execute_result"
    }
   ],
   "source": [
    "col = reviews.columns  # columns' names\n",
    "reviews = reviews.iloc[:, 1:]  # ignoring column 0\n",
    "reviews.head()  # problem fixed! :)"
   ]
  },
  {
   "cell_type": "code",
   "execution_count": 16,
   "metadata": {
    "id": "gohlfgvIDUgw"
   },
   "outputs": [
    {
     "name": "stdout",
     "output_type": "stream",
     "text": [
      "  score_phrase                                              title\n",
      "0      Amazing                            LittleBigPlanet PS Vita\n",
      "1      Amazing  LittleBigPlanet PS Vita -- Marvel Super Hero E...\n",
      "2        Great                               Splice: Tree of Life\n",
      "3        Great                                             NHL 13\n",
      "4        Great                                             NHL 13\n",
      "5         Good                          Total War Battles: Shogun\n",
      "6        Awful                                Double Dragon: Neon\n",
      "7      Amazing                                       Guild Wars 2\n",
      "8        Awful                                Double Dragon: Neon\n",
      "9         Good                          Total War Battles: Shogun\n"
     ]
    }
   ],
   "source": [
    "# Selection of a subset of rows and columns of the dataframe\n",
    "print(reviews.iloc[0:10, 0:2])  # first ten rows, first two columns"
   ]
  },
  {
   "cell_type": "code",
   "execution_count": 17,
   "metadata": {
    "id": "ePB70qt1DUgx"
   },
   "outputs": [
    {
     "data": {
      "text/html": [
       "<div>\n",
       "<style scoped>\n",
       "    .dataframe tbody tr th:only-of-type {\n",
       "        vertical-align: middle;\n",
       "    }\n",
       "\n",
       "    .dataframe tbody tr th {\n",
       "        vertical-align: top;\n",
       "    }\n",
       "\n",
       "    .dataframe thead th {\n",
       "        text-align: right;\n",
       "    }\n",
       "</style>\n",
       "<table border=\"1\" class=\"dataframe\">\n",
       "  <thead>\n",
       "    <tr style=\"text-align: right;\">\n",
       "      <th></th>\n",
       "      <th>score_phrase</th>\n",
       "      <th>title</th>\n",
       "      <th>url</th>\n",
       "      <th>platform</th>\n",
       "      <th>score</th>\n",
       "      <th>genre</th>\n",
       "      <th>editors_choice</th>\n",
       "      <th>release_year</th>\n",
       "      <th>release_month</th>\n",
       "      <th>release_day</th>\n",
       "    </tr>\n",
       "  </thead>\n",
       "  <tbody>\n",
       "    <tr>\n",
       "      <th>10</th>\n",
       "      <td>Good</td>\n",
       "      <td>Tekken Tag Tournament 2</td>\n",
       "      <td>/games/tekken-tag-tournament-2/ps3-124584</td>\n",
       "      <td>PlayStation 3</td>\n",
       "      <td>7.5</td>\n",
       "      <td>Fighting</td>\n",
       "      <td>N</td>\n",
       "      <td>2012</td>\n",
       "      <td>9</td>\n",
       "      <td>11</td>\n",
       "    </tr>\n",
       "    <tr>\n",
       "      <th>11</th>\n",
       "      <td>Good</td>\n",
       "      <td>Tekken Tag Tournament 2</td>\n",
       "      <td>/games/tekken-tag-tournament-2/xbox-360-124581</td>\n",
       "      <td>Xbox 360</td>\n",
       "      <td>7.5</td>\n",
       "      <td>Fighting</td>\n",
       "      <td>N</td>\n",
       "      <td>2012</td>\n",
       "      <td>9</td>\n",
       "      <td>11</td>\n",
       "    </tr>\n",
       "    <tr>\n",
       "      <th>12</th>\n",
       "      <td>Good</td>\n",
       "      <td>Wild Blood</td>\n",
       "      <td>/games/wild-blood/iphone-139363</td>\n",
       "      <td>iPhone</td>\n",
       "      <td>7.0</td>\n",
       "      <td>NaN</td>\n",
       "      <td>N</td>\n",
       "      <td>2012</td>\n",
       "      <td>9</td>\n",
       "      <td>10</td>\n",
       "    </tr>\n",
       "    <tr>\n",
       "      <th>13</th>\n",
       "      <td>Amazing</td>\n",
       "      <td>Mark of the Ninja</td>\n",
       "      <td>/games/mark-of-the-ninja-135615/xbox-360-129276</td>\n",
       "      <td>Xbox 360</td>\n",
       "      <td>9.0</td>\n",
       "      <td>Action, Adventure</td>\n",
       "      <td>Y</td>\n",
       "      <td>2012</td>\n",
       "      <td>9</td>\n",
       "      <td>7</td>\n",
       "    </tr>\n",
       "    <tr>\n",
       "      <th>14</th>\n",
       "      <td>Amazing</td>\n",
       "      <td>Mark of the Ninja</td>\n",
       "      <td>/games/mark-of-the-ninja-135615/pc-143761</td>\n",
       "      <td>PC</td>\n",
       "      <td>9.0</td>\n",
       "      <td>Action, Adventure</td>\n",
       "      <td>Y</td>\n",
       "      <td>2012</td>\n",
       "      <td>9</td>\n",
       "      <td>7</td>\n",
       "    </tr>\n",
       "    <tr>\n",
       "      <th>15</th>\n",
       "      <td>Okay</td>\n",
       "      <td>Home: A Unique Horror Adventure</td>\n",
       "      <td>/games/home-a-unique-horror-adventure/mac-2001...</td>\n",
       "      <td>Macintosh</td>\n",
       "      <td>6.5</td>\n",
       "      <td>Adventure</td>\n",
       "      <td>N</td>\n",
       "      <td>2012</td>\n",
       "      <td>9</td>\n",
       "      <td>6</td>\n",
       "    </tr>\n",
       "    <tr>\n",
       "      <th>16</th>\n",
       "      <td>Okay</td>\n",
       "      <td>Home: A Unique Horror Adventure</td>\n",
       "      <td>/games/home-a-unique-horror-adventure/pc-137135</td>\n",
       "      <td>PC</td>\n",
       "      <td>6.5</td>\n",
       "      <td>Adventure</td>\n",
       "      <td>N</td>\n",
       "      <td>2012</td>\n",
       "      <td>9</td>\n",
       "      <td>6</td>\n",
       "    </tr>\n",
       "    <tr>\n",
       "      <th>17</th>\n",
       "      <td>Great</td>\n",
       "      <td>Avengers Initiative</td>\n",
       "      <td>/games/avengers-initiative/iphone-141579</td>\n",
       "      <td>iPhone</td>\n",
       "      <td>8.0</td>\n",
       "      <td>Action</td>\n",
       "      <td>N</td>\n",
       "      <td>2012</td>\n",
       "      <td>9</td>\n",
       "      <td>5</td>\n",
       "    </tr>\n",
       "    <tr>\n",
       "      <th>18</th>\n",
       "      <td>Mediocre</td>\n",
       "      <td>Way of the Samurai 4</td>\n",
       "      <td>/games/way-of-the-samurai-4/ps3-23516</td>\n",
       "      <td>PlayStation 3</td>\n",
       "      <td>5.5</td>\n",
       "      <td>Action, Adventure</td>\n",
       "      <td>N</td>\n",
       "      <td>2012</td>\n",
       "      <td>9</td>\n",
       "      <td>3</td>\n",
       "    </tr>\n",
       "    <tr>\n",
       "      <th>19</th>\n",
       "      <td>Good</td>\n",
       "      <td>JoJo's Bizarre Adventure HD</td>\n",
       "      <td>/games/jojos-bizarre-adventure/xbox-360-137717</td>\n",
       "      <td>Xbox 360</td>\n",
       "      <td>7.0</td>\n",
       "      <td>Fighting</td>\n",
       "      <td>N</td>\n",
       "      <td>2012</td>\n",
       "      <td>9</td>\n",
       "      <td>3</td>\n",
       "    </tr>\n",
       "    <tr>\n",
       "      <th>20</th>\n",
       "      <td>Good</td>\n",
       "      <td>JoJo's Bizarre Adventure HD</td>\n",
       "      <td>/games/jojos-bizarre-adventure/ps3-137896</td>\n",
       "      <td>PlayStation 3</td>\n",
       "      <td>7.0</td>\n",
       "      <td>Fighting</td>\n",
       "      <td>N</td>\n",
       "      <td>2012</td>\n",
       "      <td>9</td>\n",
       "      <td>3</td>\n",
       "    </tr>\n",
       "  </tbody>\n",
       "</table>\n",
       "</div>"
      ],
      "text/plain": [
       "   score_phrase                            title  \\\n",
       "10         Good          Tekken Tag Tournament 2   \n",
       "11         Good          Tekken Tag Tournament 2   \n",
       "12         Good                       Wild Blood   \n",
       "13      Amazing                Mark of the Ninja   \n",
       "14      Amazing                Mark of the Ninja   \n",
       "15         Okay  Home: A Unique Horror Adventure   \n",
       "16         Okay  Home: A Unique Horror Adventure   \n",
       "17        Great              Avengers Initiative   \n",
       "18     Mediocre             Way of the Samurai 4   \n",
       "19         Good      JoJo's Bizarre Adventure HD   \n",
       "20         Good      JoJo's Bizarre Adventure HD   \n",
       "\n",
       "                                                  url       platform  score  \\\n",
       "10          /games/tekken-tag-tournament-2/ps3-124584  PlayStation 3    7.5   \n",
       "11     /games/tekken-tag-tournament-2/xbox-360-124581       Xbox 360    7.5   \n",
       "12                    /games/wild-blood/iphone-139363         iPhone    7.0   \n",
       "13    /games/mark-of-the-ninja-135615/xbox-360-129276       Xbox 360    9.0   \n",
       "14          /games/mark-of-the-ninja-135615/pc-143761             PC    9.0   \n",
       "15  /games/home-a-unique-horror-adventure/mac-2001...      Macintosh    6.5   \n",
       "16    /games/home-a-unique-horror-adventure/pc-137135             PC    6.5   \n",
       "17           /games/avengers-initiative/iphone-141579         iPhone    8.0   \n",
       "18              /games/way-of-the-samurai-4/ps3-23516  PlayStation 3    5.5   \n",
       "19     /games/jojos-bizarre-adventure/xbox-360-137717       Xbox 360    7.0   \n",
       "20          /games/jojos-bizarre-adventure/ps3-137896  PlayStation 3    7.0   \n",
       "\n",
       "                genre editors_choice  release_year  release_month  release_day  \n",
       "10           Fighting              N          2012              9           11  \n",
       "11           Fighting              N          2012              9           11  \n",
       "12                NaN              N          2012              9           10  \n",
       "13  Action, Adventure              Y          2012              9            7  \n",
       "14  Action, Adventure              Y          2012              9            7  \n",
       "15          Adventure              N          2012              9            6  \n",
       "16          Adventure              N          2012              9            6  \n",
       "17             Action              N          2012              9            5  \n",
       "18  Action, Adventure              N          2012              9            3  \n",
       "19           Fighting              N          2012              9            3  \n",
       "20           Fighting              N          2012              9            3  "
      ]
     },
     "execution_count": 17,
     "metadata": {},
     "output_type": "execute_result"
    }
   ],
   "source": [
    "# Selection of a subset of rows of the dataframe\n",
    "restricted_reviews = reviews.loc[10:20]  # rows from ten to twenty\n",
    "restricted_reviews"
   ]
  },
  {
   "cell_type": "code",
   "execution_count": 18,
   "metadata": {
    "id": "_7OY9JNmDUgx"
   },
   "outputs": [
    {
     "data": {
      "text/html": [
       "<div>\n",
       "<style scoped>\n",
       "    .dataframe tbody tr th:only-of-type {\n",
       "        vertical-align: middle;\n",
       "    }\n",
       "\n",
       "    .dataframe tbody tr th {\n",
       "        vertical-align: top;\n",
       "    }\n",
       "\n",
       "    .dataframe thead th {\n",
       "        text-align: right;\n",
       "    }\n",
       "</style>\n",
       "<table border=\"1\" class=\"dataframe\">\n",
       "  <thead>\n",
       "    <tr style=\"text-align: right;\">\n",
       "      <th></th>\n",
       "      <th>title</th>\n",
       "      <th>score</th>\n",
       "    </tr>\n",
       "  </thead>\n",
       "  <tbody>\n",
       "    <tr>\n",
       "      <th>0</th>\n",
       "      <td>LittleBigPlanet PS Vita</td>\n",
       "      <td>9.0</td>\n",
       "    </tr>\n",
       "    <tr>\n",
       "      <th>1</th>\n",
       "      <td>LittleBigPlanet PS Vita -- Marvel Super Hero E...</td>\n",
       "      <td>9.0</td>\n",
       "    </tr>\n",
       "    <tr>\n",
       "      <th>2</th>\n",
       "      <td>Splice: Tree of Life</td>\n",
       "      <td>8.5</td>\n",
       "    </tr>\n",
       "    <tr>\n",
       "      <th>3</th>\n",
       "      <td>NHL 13</td>\n",
       "      <td>8.5</td>\n",
       "    </tr>\n",
       "    <tr>\n",
       "      <th>4</th>\n",
       "      <td>NHL 13</td>\n",
       "      <td>8.5</td>\n",
       "    </tr>\n",
       "    <tr>\n",
       "      <th>5</th>\n",
       "      <td>Total War Battles: Shogun</td>\n",
       "      <td>7.0</td>\n",
       "    </tr>\n",
       "    <tr>\n",
       "      <th>6</th>\n",
       "      <td>Double Dragon: Neon</td>\n",
       "      <td>3.0</td>\n",
       "    </tr>\n",
       "    <tr>\n",
       "      <th>7</th>\n",
       "      <td>Guild Wars 2</td>\n",
       "      <td>9.0</td>\n",
       "    </tr>\n",
       "    <tr>\n",
       "      <th>8</th>\n",
       "      <td>Double Dragon: Neon</td>\n",
       "      <td>3.0</td>\n",
       "    </tr>\n",
       "    <tr>\n",
       "      <th>9</th>\n",
       "      <td>Total War Battles: Shogun</td>\n",
       "      <td>7.0</td>\n",
       "    </tr>\n",
       "    <tr>\n",
       "      <th>10</th>\n",
       "      <td>Tekken Tag Tournament 2</td>\n",
       "      <td>7.5</td>\n",
       "    </tr>\n",
       "  </tbody>\n",
       "</table>\n",
       "</div>"
      ],
      "text/plain": [
       "                                                title  score\n",
       "0                             LittleBigPlanet PS Vita    9.0\n",
       "1   LittleBigPlanet PS Vita -- Marvel Super Hero E...    9.0\n",
       "2                                Splice: Tree of Life    8.5\n",
       "3                                              NHL 13    8.5\n",
       "4                                              NHL 13    8.5\n",
       "5                           Total War Battles: Shogun    7.0\n",
       "6                                 Double Dragon: Neon    3.0\n",
       "7                                        Guild Wars 2    9.0\n",
       "8                                 Double Dragon: Neon    3.0\n",
       "9                           Total War Battles: Shogun    7.0\n",
       "10                            Tekken Tag Tournament 2    7.5"
      ]
     },
     "execution_count": 18,
     "metadata": {},
     "output_type": "execute_result"
    }
   ],
   "source": [
    "# Selection of a subset of rows and columns using columns' names\n",
    "reviews.loc[0:10, [\"title\", \"score\"]]"
   ]
  },
  {
   "cell_type": "code",
   "execution_count": 19,
   "metadata": {
    "id": "XoFKS3zQDUgx"
   },
   "outputs": [
    {
     "data": {
      "text/html": [
       "<div>\n",
       "<style scoped>\n",
       "    .dataframe tbody tr th:only-of-type {\n",
       "        vertical-align: middle;\n",
       "    }\n",
       "\n",
       "    .dataframe tbody tr th {\n",
       "        vertical-align: top;\n",
       "    }\n",
       "\n",
       "    .dataframe thead th {\n",
       "        text-align: right;\n",
       "    }\n",
       "</style>\n",
       "<table border=\"1\" class=\"dataframe\">\n",
       "  <thead>\n",
       "    <tr style=\"text-align: right;\">\n",
       "      <th></th>\n",
       "      <th>title</th>\n",
       "      <th>score</th>\n",
       "    </tr>\n",
       "  </thead>\n",
       "  <tbody>\n",
       "    <tr>\n",
       "      <th>0</th>\n",
       "      <td>LittleBigPlanet PS Vita</td>\n",
       "      <td>9.0</td>\n",
       "    </tr>\n",
       "    <tr>\n",
       "      <th>1</th>\n",
       "      <td>LittleBigPlanet PS Vita -- Marvel Super Hero E...</td>\n",
       "      <td>9.0</td>\n",
       "    </tr>\n",
       "    <tr>\n",
       "      <th>2</th>\n",
       "      <td>Splice: Tree of Life</td>\n",
       "      <td>8.5</td>\n",
       "    </tr>\n",
       "    <tr>\n",
       "      <th>3</th>\n",
       "      <td>NHL 13</td>\n",
       "      <td>8.5</td>\n",
       "    </tr>\n",
       "    <tr>\n",
       "      <th>4</th>\n",
       "      <td>NHL 13</td>\n",
       "      <td>8.5</td>\n",
       "    </tr>\n",
       "    <tr>\n",
       "      <th>...</th>\n",
       "      <td>...</td>\n",
       "      <td>...</td>\n",
       "    </tr>\n",
       "    <tr>\n",
       "      <th>18620</th>\n",
       "      <td>Tokyo Mirage Sessions #FE</td>\n",
       "      <td>7.6</td>\n",
       "    </tr>\n",
       "    <tr>\n",
       "      <th>18621</th>\n",
       "      <td>LEGO Star Wars: The Force Awakens</td>\n",
       "      <td>9.0</td>\n",
       "    </tr>\n",
       "    <tr>\n",
       "      <th>18622</th>\n",
       "      <td>Star Ocean: Integrity and Faithlessness</td>\n",
       "      <td>5.8</td>\n",
       "    </tr>\n",
       "    <tr>\n",
       "      <th>18623</th>\n",
       "      <td>Inside</td>\n",
       "      <td>10.0</td>\n",
       "    </tr>\n",
       "    <tr>\n",
       "      <th>18624</th>\n",
       "      <td>Inside</td>\n",
       "      <td>10.0</td>\n",
       "    </tr>\n",
       "  </tbody>\n",
       "</table>\n",
       "<p>18625 rows × 2 columns</p>\n",
       "</div>"
      ],
      "text/plain": [
       "                                                   title  score\n",
       "0                                LittleBigPlanet PS Vita    9.0\n",
       "1      LittleBigPlanet PS Vita -- Marvel Super Hero E...    9.0\n",
       "2                                   Splice: Tree of Life    8.5\n",
       "3                                                 NHL 13    8.5\n",
       "4                                                 NHL 13    8.5\n",
       "...                                                  ...    ...\n",
       "18620                          Tokyo Mirage Sessions #FE    7.6\n",
       "18621                  LEGO Star Wars: The Force Awakens    9.0\n",
       "18622            Star Ocean: Integrity and Faithlessness    5.8\n",
       "18623                                             Inside   10.0\n",
       "18624                                             Inside   10.0\n",
       "\n",
       "[18625 rows x 2 columns]"
      ]
     },
     "execution_count": 19,
     "metadata": {},
     "output_type": "execute_result"
    }
   ],
   "source": [
    "# Selection a subset of columns by their names, keeping all rows\n",
    "reviews[[\"title\", \"score\"]]"
   ]
  },
  {
   "cell_type": "code",
   "execution_count": 20,
   "metadata": {
    "id": "4MQcwyIODUgx"
   },
   "outputs": [
    {
     "data": {
      "text/plain": [
       "0        False\n",
       "1        False\n",
       "2        False\n",
       "3        False\n",
       "4        False\n",
       "         ...  \n",
       "18620    False\n",
       "18621    False\n",
       "18622    False\n",
       "18623     True\n",
       "18624     True\n",
       "Name: score, Length: 18625, dtype: bool"
      ]
     },
     "execution_count": 20,
     "metadata": {},
     "output_type": "execute_result"
    }
   ],
   "source": [
    "# Indexing using boolean masks\n",
    "mask = reviews[\"score\"] >= 9.5\n",
    "mask  # series of booleans"
   ]
  },
  {
   "cell_type": "code",
   "execution_count": 21,
   "metadata": {
    "id": "MW4o9dKkDUgy"
   },
   "outputs": [
    {
     "name": "stdout",
     "output_type": "stream",
     "text": [
      "Fraction of cool games: \n",
      "0.020671140939597314\n",
      "33                   Pokemon White Version 2\n",
      "35                   Pokemon Black Version 2\n",
      "52       The World Ends with You: Solo Remix\n",
      "54       The World Ends with You: Solo Remix\n",
      "135        Zero Escape: Virtue's Last Reward\n",
      "                        ...                 \n",
      "18511                                 Inside\n",
      "18562                Odin Sphere Leifthrasir\n",
      "18563                Odin Sphere Leifthrasir\n",
      "18623                                 Inside\n",
      "18624                                 Inside\n",
      "Name: title, Length: 385, dtype: object\n"
     ]
    }
   ],
   "source": [
    "# Retrieval of title of the games with a score >=9.5\n",
    "\n",
    "cool_games = reviews[mask][\"title\"]\n",
    "print(\"Fraction of cool games: \")\n",
    "\n",
    "# len returns the number of rows (i.e. \"characteristic length\" of the dataframe)\n",
    "print(len(cool_games) / len(reviews[\"title\"]))\n",
    "\n",
    "print(cool_games)"
   ]
  },
  {
   "cell_type": "markdown",
   "metadata": {
    "id": "kDL_BnIbDUgy"
   },
   "source": [
    "The following are some functions that can be used to get information about a DataFrame and do some maths with numeric columns:"
   ]
  },
  {
   "cell_type": "code",
   "execution_count": 22,
   "metadata": {
    "id": "Nlf20rS3DUgy"
   },
   "outputs": [
    {
     "name": "stdout",
     "output_type": "stream",
     "text": [
      "<class 'pandas.core.frame.DataFrame'>\n",
      "RangeIndex: 18625 entries, 0 to 18624\n",
      "Data columns (total 10 columns):\n",
      " #   Column          Non-Null Count  Dtype  \n",
      "---  ------          --------------  -----  \n",
      " 0   score_phrase    18625 non-null  object \n",
      " 1   title           18625 non-null  object \n",
      " 2   url             18625 non-null  object \n",
      " 3   platform        18625 non-null  object \n",
      " 4   score           18625 non-null  float64\n",
      " 5   genre           18589 non-null  object \n",
      " 6   editors_choice  18625 non-null  object \n",
      " 7   release_year    18625 non-null  int64  \n",
      " 8   release_month   18625 non-null  int64  \n",
      " 9   release_day     18625 non-null  int64  \n",
      "dtypes: float64(1), int64(3), object(6)\n",
      "memory usage: 1.4+ MB\n"
     ]
    }
   ],
   "source": [
    "# Info about each column\n",
    "reviews.info()"
   ]
  },
  {
   "cell_type": "code",
   "execution_count": 23,
   "metadata": {
    "id": "WN23h5b7DUgy"
   },
   "outputs": [
    {
     "data": {
      "text/plain": [
       "count    18625.000000\n",
       "mean         6.950459\n",
       "std          1.711736\n",
       "min          0.500000\n",
       "25%          6.000000\n",
       "50%          7.300000\n",
       "75%          8.200000\n",
       "max         10.000000\n",
       "Name: score, dtype: float64"
      ]
     },
     "execution_count": 23,
     "metadata": {},
     "output_type": "execute_result"
    }
   ],
   "source": [
    "# Statistical info about a column\n",
    "reviews[\"score\"].describe()"
   ]
  },
  {
   "cell_type": "code",
   "execution_count": 24,
   "metadata": {
    "id": "HfAdDT0UDUgy"
   },
   "outputs": [
    {
     "data": {
      "text/plain": [
       "score               6.950459\n",
       "release_year     2006.515329\n",
       "release_month       7.138470\n",
       "release_day        15.603866\n",
       "dtype: float64"
      ]
     },
     "execution_count": 24,
     "metadata": {},
     "output_type": "execute_result"
    }
   ],
   "source": [
    "# Mean of each numeric column\n",
    "reviews.mean(\n",
    "    numeric_only=True\n",
    ")  # numeric_only defines if only numeric columns are considered"
   ]
  },
  {
   "cell_type": "code",
   "execution_count": 25,
   "metadata": {
    "id": "0hQ4MdZUDUgy"
   },
   "outputs": [
    {
     "data": {
      "text/plain": [
       "score               7.3\n",
       "release_year     2007.0\n",
       "release_month       8.0\n",
       "release_day        16.0\n",
       "dtype: float64"
      ]
     },
     "execution_count": 25,
     "metadata": {},
     "output_type": "execute_result"
    }
   ],
   "source": [
    "# Median of each numeric column\n",
    "reviews.median(numeric_only=True)"
   ]
  },
  {
   "cell_type": "code",
   "execution_count": 26,
   "metadata": {
    "id": "wjzsgSg4DUgz"
   },
   "outputs": [
    {
     "data": {
      "text/plain": [
       "0        13.50\n",
       "1        13.50\n",
       "2        12.75\n",
       "3        12.75\n",
       "4        12.75\n",
       "         ...  \n",
       "18620    11.40\n",
       "18621    13.50\n",
       "18622     8.70\n",
       "18623    15.00\n",
       "18624    15.00\n",
       "Name: score, Length: 18625, dtype: float64"
      ]
     },
     "execution_count": 26,
     "metadata": {},
     "output_type": "execute_result"
    }
   ],
   "source": [
    "# Arithmetic manipulation of a column\n",
    "reviews[\"score\"] / 2 * 3"
   ]
  },
  {
   "attachments": {},
   "cell_type": "markdown",
   "metadata": {
    "id": "sbZaxELoDUgz"
   },
   "source": [
    "#### Data summarization"
   ]
  },
  {
   "cell_type": "code",
   "execution_count": 27,
   "metadata": {
    "id": "V2fxWe29DUgz"
   },
   "outputs": [
    {
     "data": {
      "text/plain": [
       "array(['PlayStation Vita', 'iPad', 'Xbox 360', 'PlayStation 3',\n",
       "       'Macintosh', 'PC', 'iPhone', 'Nintendo DS', 'Nintendo 3DS',\n",
       "       'Android', 'Wii', 'PlayStation 4', 'Wii U', 'Linux',\n",
       "       'PlayStation Portable', 'PlayStation', 'Nintendo 64', 'Saturn',\n",
       "       'Lynx', 'Game Boy', 'Game Boy Color', 'NeoGeo Pocket Color',\n",
       "       'Game.Com', 'Dreamcast', 'Dreamcast VMU', 'WonderSwan', 'Arcade',\n",
       "       'Nintendo 64DD', 'PlayStation 2', 'WonderSwan Color',\n",
       "       'Game Boy Advance', 'Xbox', 'GameCube', 'DVD / HD Video Game',\n",
       "       'Wireless', 'Pocket PC', 'N-Gage', 'NES', 'iPod', 'Genesis',\n",
       "       'TurboGrafx-16', 'Super NES', 'NeoGeo', 'Master System',\n",
       "       'Atari 5200', 'TurboGrafx-CD', 'Atari 2600', 'Sega 32X', 'Vectrex',\n",
       "       'Commodore 64/128', 'Sega CD', 'Nintendo DSi', 'Windows Phone',\n",
       "       'Web Games', 'Xbox One', 'Windows Surface', 'Ouya',\n",
       "       'New Nintendo 3DS', 'SteamOS'], dtype=object)"
      ]
     },
     "execution_count": 27,
     "metadata": {},
     "output_type": "execute_result"
    }
   ],
   "source": [
    "# unique\n",
    "# Returns unique(ified) values in a Series\n",
    "\n",
    "reviews[\"platform\"].unique()"
   ]
  },
  {
   "cell_type": "code",
   "execution_count": 28,
   "metadata": {
    "id": "i45xVF-uDUgz"
   },
   "outputs": [
    {
     "data": {
      "text/plain": [
       "2008    1915\n",
       "2009    1687\n",
       "2007    1610\n",
       "2010    1363\n",
       "2006    1208\n",
       "2005    1088\n",
       "2011    1073\n",
       "2000    1045\n",
       "2004     997\n",
       "2003     969\n",
       "2002     936\n",
       "1999     775\n",
       "2012     753\n",
       "2013     696\n",
       "2001     688\n",
       "2014     537\n",
       "2015     365\n",
       "1998     339\n",
       "2016     226\n",
       "1997     205\n",
       "1996     149\n",
       "1970       1\n",
       "Name: release_year, dtype: int64"
      ]
     },
     "execution_count": 28,
     "metadata": {},
     "output_type": "execute_result"
    }
   ],
   "source": [
    "# value_counts\n",
    "# Returns a series containing counts of unique(ified) values\n",
    "reviews[\"release_year\"].value_counts(dropna=False)"
   ]
  },
  {
   "attachments": {},
   "cell_type": "markdown",
   "metadata": {
    "id": "RQ4cVxrcDUgz"
   },
   "source": [
    "#### Grouping data\n",
    "\n",
    "Grouping data allows to aggregate with respect to the values of one column (typically a category), and even hierarchically so.\n",
    "\n",
    "It is especially useful in data analysis, where one often breaks down the problem into smaller, manageble pieces, and then puts everything back together."
   ]
  },
  {
   "cell_type": "code",
   "execution_count": 29,
   "metadata": {
    "id": "uJIME1u2DUgz"
   },
   "outputs": [
    {
     "data": {
      "text/plain": [
       "genre\n",
       "Action                   3797\n",
       "Action, Adventure         765\n",
       "Action, Compilation        89\n",
       "Action, Editor              1\n",
       "Action, Platformer          3\n",
       "                         ... \n",
       "Strategy, Simulation        1\n",
       "Trivia                    119\n",
       "Virtual Pet                82\n",
       "Wrestling                 134\n",
       "Wrestling, Simulation       1\n",
       "Length: 112, dtype: int64"
      ]
     },
     "execution_count": 29,
     "metadata": {},
     "output_type": "execute_result"
    }
   ],
   "source": [
    "# groupby\n",
    "# Returns a collection of dataframes, which can be iterated on.\n",
    "\n",
    "grouped = reviews.groupby(\"genre\")\n",
    "grouped.size()"
   ]
  },
  {
   "cell_type": "code",
   "execution_count": 30,
   "metadata": {
    "id": "eE-t-lYfDUg0"
   },
   "outputs": [
    {
     "name": "stdout",
     "output_type": "stream",
     "text": [
      "Action\n",
      "(3797, 10)\n",
      "<class 'pandas.core.frame.DataFrame'>\n",
      "Action, Adventure\n",
      "(765, 10)\n",
      "<class 'pandas.core.frame.DataFrame'>\n",
      "Action, Compilation\n",
      "(89, 10)\n",
      "<class 'pandas.core.frame.DataFrame'>\n",
      "Action, Editor\n",
      "(1, 10)\n",
      "<class 'pandas.core.frame.DataFrame'>\n",
      "Action, Platformer\n",
      "(3, 10)\n",
      "<class 'pandas.core.frame.DataFrame'>\n",
      "Action, Puzzle\n",
      "(1, 10)\n",
      "<class 'pandas.core.frame.DataFrame'>\n",
      "Action, RPG\n",
      "(330, 10)\n",
      "<class 'pandas.core.frame.DataFrame'>\n",
      "Action, Simulation\n",
      "(32, 10)\n",
      "<class 'pandas.core.frame.DataFrame'>\n",
      "Action, Strategy\n",
      "(1, 10)\n",
      "<class 'pandas.core.frame.DataFrame'>\n",
      "Adult, Card\n",
      "(2, 10)\n",
      "<class 'pandas.core.frame.DataFrame'>\n",
      "Adventure\n",
      "(1175, 10)\n",
      "<class 'pandas.core.frame.DataFrame'>\n",
      "Adventure, Adult\n",
      "(1, 10)\n",
      "<class 'pandas.core.frame.DataFrame'>\n",
      "Adventure, Adventure\n",
      "(5, 10)\n",
      "<class 'pandas.core.frame.DataFrame'>\n",
      "Adventure, Compilation\n",
      "(11, 10)\n",
      "<class 'pandas.core.frame.DataFrame'>\n",
      "Adventure, Episodic\n",
      "(4, 10)\n",
      "<class 'pandas.core.frame.DataFrame'>\n",
      "Adventure, Platformer\n",
      "(1, 10)\n",
      "<class 'pandas.core.frame.DataFrame'>\n",
      "Adventure, RPG\n",
      "(3, 10)\n",
      "<class 'pandas.core.frame.DataFrame'>\n",
      "Baseball\n",
      "(1, 10)\n",
      "<class 'pandas.core.frame.DataFrame'>\n",
      "Battle\n",
      "(32, 10)\n",
      "<class 'pandas.core.frame.DataFrame'>\n",
      "Board\n",
      "(116, 10)\n",
      "<class 'pandas.core.frame.DataFrame'>\n",
      "Board, Compilation\n",
      "(7, 10)\n",
      "<class 'pandas.core.frame.DataFrame'>\n",
      "Card\n",
      "(108, 10)\n",
      "<class 'pandas.core.frame.DataFrame'>\n",
      "Card, Battle\n",
      "(54, 10)\n",
      "<class 'pandas.core.frame.DataFrame'>\n",
      "Card, Compilation\n",
      "(3, 10)\n",
      "<class 'pandas.core.frame.DataFrame'>\n",
      "Card, RPG\n",
      "(9, 10)\n",
      "<class 'pandas.core.frame.DataFrame'>\n",
      "Casino\n",
      "(31, 10)\n",
      "<class 'pandas.core.frame.DataFrame'>\n",
      "Compilation\n",
      "(54, 10)\n",
      "<class 'pandas.core.frame.DataFrame'>\n",
      "Compilation, Compilation\n",
      "(1, 10)\n",
      "<class 'pandas.core.frame.DataFrame'>\n",
      "Compilation, RPG\n",
      "(2, 10)\n",
      "<class 'pandas.core.frame.DataFrame'>\n",
      "Educational\n",
      "(20, 10)\n",
      "<class 'pandas.core.frame.DataFrame'>\n",
      "Educational, Action\n",
      "(11, 10)\n",
      "<class 'pandas.core.frame.DataFrame'>\n",
      "Educational, Adventure\n",
      "(3, 10)\n",
      "<class 'pandas.core.frame.DataFrame'>\n",
      "Educational, Card\n",
      "(1, 10)\n",
      "<class 'pandas.core.frame.DataFrame'>\n",
      "Educational, Productivity\n",
      "(5, 10)\n",
      "<class 'pandas.core.frame.DataFrame'>\n",
      "Educational, Puzzle\n",
      "(25, 10)\n",
      "<class 'pandas.core.frame.DataFrame'>\n",
      "Educational, Simulation\n",
      "(2, 10)\n",
      "<class 'pandas.core.frame.DataFrame'>\n",
      "Educational, Trivia\n",
      "(2, 10)\n",
      "<class 'pandas.core.frame.DataFrame'>\n",
      "Fighting\n",
      "(547, 10)\n",
      "<class 'pandas.core.frame.DataFrame'>\n",
      "Fighting, Action\n",
      "(77, 10)\n",
      "<class 'pandas.core.frame.DataFrame'>\n",
      "Fighting, Adventure\n",
      "(5, 10)\n",
      "<class 'pandas.core.frame.DataFrame'>\n",
      "Fighting, Compilation\n",
      "(13, 10)\n",
      "<class 'pandas.core.frame.DataFrame'>\n",
      "Fighting, RPG\n",
      "(2, 10)\n",
      "<class 'pandas.core.frame.DataFrame'>\n",
      "Fighting, Simulation\n",
      "(3, 10)\n",
      "<class 'pandas.core.frame.DataFrame'>\n",
      "Flight\n",
      "(24, 10)\n",
      "<class 'pandas.core.frame.DataFrame'>\n",
      "Flight, Action\n",
      "(125, 10)\n",
      "<class 'pandas.core.frame.DataFrame'>\n",
      "Flight, Racing\n",
      "(3, 10)\n",
      "<class 'pandas.core.frame.DataFrame'>\n",
      "Flight, Simulation\n",
      "(37, 10)\n",
      "<class 'pandas.core.frame.DataFrame'>\n",
      "Hardware\n",
      "(2, 10)\n",
      "<class 'pandas.core.frame.DataFrame'>\n",
      "Hunting\n",
      "(112, 10)\n",
      "<class 'pandas.core.frame.DataFrame'>\n",
      "Hunting, Action\n",
      "(2, 10)\n",
      "<class 'pandas.core.frame.DataFrame'>\n",
      "Hunting, Simulation\n",
      "(1, 10)\n",
      "<class 'pandas.core.frame.DataFrame'>\n",
      "Music\n",
      "(371, 10)\n",
      "<class 'pandas.core.frame.DataFrame'>\n",
      "Music, Action\n",
      "(39, 10)\n",
      "<class 'pandas.core.frame.DataFrame'>\n",
      "Music, Adventure\n",
      "(1, 10)\n",
      "<class 'pandas.core.frame.DataFrame'>\n",
      "Music, Compilation\n",
      "(4, 10)\n",
      "<class 'pandas.core.frame.DataFrame'>\n",
      "Music, Editor\n",
      "(6, 10)\n",
      "<class 'pandas.core.frame.DataFrame'>\n",
      "Music, RPG\n",
      "(1, 10)\n",
      "<class 'pandas.core.frame.DataFrame'>\n",
      "Other\n",
      "(20, 10)\n",
      "<class 'pandas.core.frame.DataFrame'>\n",
      "Other, Action\n",
      "(1, 10)\n",
      "<class 'pandas.core.frame.DataFrame'>\n",
      "Other, Adventure\n",
      "(1, 10)\n",
      "<class 'pandas.core.frame.DataFrame'>\n",
      "Party\n",
      "(141, 10)\n",
      "<class 'pandas.core.frame.DataFrame'>\n",
      "Pinball\n",
      "(77, 10)\n",
      "<class 'pandas.core.frame.DataFrame'>\n",
      "Pinball, Compilation\n",
      "(1, 10)\n",
      "<class 'pandas.core.frame.DataFrame'>\n",
      "Platformer\n",
      "(823, 10)\n",
      "<class 'pandas.core.frame.DataFrame'>\n",
      "Platformer, Action\n",
      "(11, 10)\n",
      "<class 'pandas.core.frame.DataFrame'>\n",
      "Platformer, Adventure\n",
      "(8, 10)\n",
      "<class 'pandas.core.frame.DataFrame'>\n",
      "Productivity\n",
      "(39, 10)\n",
      "<class 'pandas.core.frame.DataFrame'>\n",
      "Productivity, Action\n",
      "(2, 10)\n",
      "<class 'pandas.core.frame.DataFrame'>\n",
      "Puzzle\n",
      "(776, 10)\n",
      "<class 'pandas.core.frame.DataFrame'>\n",
      "Puzzle, Action\n",
      "(200, 10)\n",
      "<class 'pandas.core.frame.DataFrame'>\n",
      "Puzzle, Adventure\n",
      "(47, 10)\n",
      "<class 'pandas.core.frame.DataFrame'>\n",
      "Puzzle, Compilation\n",
      "(9, 10)\n",
      "<class 'pandas.core.frame.DataFrame'>\n",
      "Puzzle, Platformer\n",
      "(1, 10)\n",
      "<class 'pandas.core.frame.DataFrame'>\n",
      "Puzzle, RPG\n",
      "(1, 10)\n",
      "<class 'pandas.core.frame.DataFrame'>\n",
      "Puzzle, Word Game\n",
      "(6, 10)\n",
      "<class 'pandas.core.frame.DataFrame'>\n",
      "RPG\n",
      "(980, 10)\n",
      "<class 'pandas.core.frame.DataFrame'>\n",
      "RPG, Action\n",
      "(1, 10)\n",
      "<class 'pandas.core.frame.DataFrame'>\n",
      "RPG, Compilation\n",
      "(4, 10)\n",
      "<class 'pandas.core.frame.DataFrame'>\n",
      "RPG, Editor\n",
      "(2, 10)\n",
      "<class 'pandas.core.frame.DataFrame'>\n",
      "RPG, Simulation\n",
      "(8, 10)\n",
      "<class 'pandas.core.frame.DataFrame'>\n",
      "Racing\n",
      "(1228, 10)\n",
      "<class 'pandas.core.frame.DataFrame'>\n",
      "Racing, Action\n",
      "(210, 10)\n",
      "<class 'pandas.core.frame.DataFrame'>\n",
      "Racing, Compilation\n",
      "(2, 10)\n",
      "<class 'pandas.core.frame.DataFrame'>\n",
      "Racing, Editor\n",
      "(3, 10)\n",
      "<class 'pandas.core.frame.DataFrame'>\n",
      "Racing, Shooter\n",
      "(2, 10)\n",
      "<class 'pandas.core.frame.DataFrame'>\n",
      "Racing, Simulation\n",
      "(25, 10)\n",
      "<class 'pandas.core.frame.DataFrame'>\n",
      "Shooter\n",
      "(1610, 10)\n",
      "<class 'pandas.core.frame.DataFrame'>\n",
      "Shooter, Adventure\n",
      "(1, 10)\n",
      "<class 'pandas.core.frame.DataFrame'>\n",
      "Shooter, First-Person\n",
      "(4, 10)\n",
      "<class 'pandas.core.frame.DataFrame'>\n",
      "Shooter, Platformer\n",
      "(3, 10)\n",
      "<class 'pandas.core.frame.DataFrame'>\n",
      "Shooter, RPG\n",
      "(22, 10)\n",
      "<class 'pandas.core.frame.DataFrame'>\n",
      "Simulation\n",
      "(567, 10)\n",
      "<class 'pandas.core.frame.DataFrame'>\n",
      "Simulation, Adventure\n",
      "(1, 10)\n",
      "<class 'pandas.core.frame.DataFrame'>\n",
      "Sports\n",
      "(1916, 10)\n",
      "<class 'pandas.core.frame.DataFrame'>\n",
      "Sports, Action\n",
      "(196, 10)\n",
      "<class 'pandas.core.frame.DataFrame'>\n",
      "Sports, Baseball\n",
      "(3, 10)\n",
      "<class 'pandas.core.frame.DataFrame'>\n",
      "Sports, Compilation\n",
      "(14, 10)\n",
      "<class 'pandas.core.frame.DataFrame'>\n",
      "Sports, Editor\n",
      "(1, 10)\n",
      "<class 'pandas.core.frame.DataFrame'>\n",
      "Sports, Fighting\n",
      "(1, 10)\n",
      "<class 'pandas.core.frame.DataFrame'>\n",
      "Sports, Golf\n",
      "(1, 10)\n",
      "<class 'pandas.core.frame.DataFrame'>\n",
      "Sports, Other\n",
      "(1, 10)\n",
      "<class 'pandas.core.frame.DataFrame'>\n",
      "Sports, Party\n",
      "(1, 10)\n",
      "<class 'pandas.core.frame.DataFrame'>\n",
      "Sports, Racing\n",
      "(5, 10)\n",
      "<class 'pandas.core.frame.DataFrame'>\n",
      "Sports, Simulation\n",
      "(44, 10)\n",
      "<class 'pandas.core.frame.DataFrame'>\n",
      "Strategy\n",
      "(1071, 10)\n",
      "<class 'pandas.core.frame.DataFrame'>\n",
      "Strategy, Compilation\n",
      "(1, 10)\n",
      "<class 'pandas.core.frame.DataFrame'>\n",
      "Strategy, RPG\n",
      "(77, 10)\n",
      "<class 'pandas.core.frame.DataFrame'>\n",
      "Strategy, Simulation\n",
      "(1, 10)\n",
      "<class 'pandas.core.frame.DataFrame'>\n",
      "Trivia\n",
      "(119, 10)\n",
      "<class 'pandas.core.frame.DataFrame'>\n",
      "Virtual Pet\n",
      "(82, 10)\n",
      "<class 'pandas.core.frame.DataFrame'>\n",
      "Wrestling\n",
      "(134, 10)\n",
      "<class 'pandas.core.frame.DataFrame'>\n",
      "Wrestling, Simulation\n",
      "(1, 10)\n",
      "<class 'pandas.core.frame.DataFrame'>\n"
     ]
    }
   ],
   "source": [
    "# DataFrame iteration\n",
    "\n",
    "for name, group in grouped:\n",
    "    print(name)\n",
    "    print(group.shape)\n",
    "    print(type(group))"
   ]
  },
  {
   "cell_type": "code",
   "execution_count": 31,
   "metadata": {
    "id": "IPP_QZuwDUg0"
   },
   "outputs": [
    {
     "data": {
      "text/plain": [
       "score_phrase\n",
       "Amazing         9.176663\n",
       "Awful           3.290211\n",
       "Bad             4.331600\n",
       "Disaster        0.666667\n",
       "Good            7.369099\n",
       "Great           8.316510\n",
       "Masterpiece    10.000000\n",
       "Mediocre        5.318530\n",
       "Okay            6.366553\n",
       "Painful         2.267941\n",
       "Unbearable      1.290278\n",
       "Name: score, dtype: float64"
      ]
     },
     "execution_count": 31,
     "metadata": {},
     "output_type": "execute_result"
    }
   ],
   "source": [
    "# Another example of grouping\n",
    "reviews.groupby(\"score_phrase\")[\"score\"].mean(numeric_only=True)"
   ]
  },
  {
   "cell_type": "markdown",
   "metadata": {
    "id": "VYLd-suwDUg0"
   },
   "source": [
    "#### Applying functions to Series and DataFrames\n",
    "\n",
    "With the method `apply` of the Series object we can apply a (python/numpy/user-defined/lambda) function to each element of the Series. "
   ]
  },
  {
   "cell_type": "code",
   "execution_count": 32,
   "metadata": {
    "id": "eVHr30YXDUg0"
   },
   "outputs": [
    {
     "data": {
      "text/plain": [
       "0    15108\n",
       "1     3517\n",
       "Name: editors_choice, dtype: int64"
      ]
     },
     "execution_count": 32,
     "metadata": {},
     "output_type": "execute_result"
    }
   ],
   "source": [
    "# transform (encode) the column gender to a numeric one\n",
    "def editor_code(gstr):\n",
    "    if pd.isnull(gstr):\n",
    "        return gstr\n",
    "    elif gstr == \"Y\":\n",
    "        return 1\n",
    "    else:  # gstr == \"N\"\n",
    "        return 0\n",
    "\n",
    "\n",
    "# apply function\n",
    "reviews[\"editors_choice\"] = reviews[\"editors_choice\"].apply(editor_code)\n",
    "# check the result\n",
    "reviews[\"editors_choice\"].value_counts(dropna=False)"
   ]
  },
  {
   "cell_type": "markdown",
   "metadata": {
    "id": "YRwJcO2dDUg0"
   },
   "source": [
    "#### Aggregating data\n",
    "\n",
    "Numerical columns in grouped structures can be aggregated, in order for example to visualize their mean, sum, etc.. by calling the `agg` function."
   ]
  },
  {
   "cell_type": "code",
   "execution_count": 33,
   "metadata": {
    "id": "dw8OLrAlDUg0"
   },
   "outputs": [
    {
     "name": "stderr",
     "output_type": "stream",
     "text": [
      "/tmp/ipykernel_7823/3968380019.py:1: FutureWarning: The operation <function mean at 0x7fd098058d30> failed on a column. If any error is raised, this will raise an exception in a future version of pandas. Drop these columns to avoid this warning.\n",
      "  grouped.agg(np.mean)\n"
     ]
    },
    {
     "data": {
      "text/html": [
       "<div>\n",
       "<style scoped>\n",
       "    .dataframe tbody tr th:only-of-type {\n",
       "        vertical-align: middle;\n",
       "    }\n",
       "\n",
       "    .dataframe tbody tr th {\n",
       "        vertical-align: top;\n",
       "    }\n",
       "\n",
       "    .dataframe thead th {\n",
       "        text-align: right;\n",
       "    }\n",
       "</style>\n",
       "<table border=\"1\" class=\"dataframe\">\n",
       "  <thead>\n",
       "    <tr style=\"text-align: right;\">\n",
       "      <th></th>\n",
       "      <th>score</th>\n",
       "      <th>editors_choice</th>\n",
       "      <th>release_year</th>\n",
       "      <th>release_month</th>\n",
       "      <th>release_day</th>\n",
       "    </tr>\n",
       "    <tr>\n",
       "      <th>genre</th>\n",
       "      <th></th>\n",
       "      <th></th>\n",
       "      <th></th>\n",
       "      <th></th>\n",
       "      <th></th>\n",
       "    </tr>\n",
       "  </thead>\n",
       "  <tbody>\n",
       "    <tr>\n",
       "      <th>Action</th>\n",
       "      <td>6.626679</td>\n",
       "      <td>0.127206</td>\n",
       "      <td>2006.241243</td>\n",
       "      <td>6.995259</td>\n",
       "      <td>15.841454</td>\n",
       "    </tr>\n",
       "    <tr>\n",
       "      <th>Action, Adventure</th>\n",
       "      <td>7.371895</td>\n",
       "      <td>0.266667</td>\n",
       "      <td>2006.935948</td>\n",
       "      <td>7.338562</td>\n",
       "      <td>16.071895</td>\n",
       "    </tr>\n",
       "    <tr>\n",
       "      <th>Action, Compilation</th>\n",
       "      <td>7.029213</td>\n",
       "      <td>0.123596</td>\n",
       "      <td>2006.561798</td>\n",
       "      <td>7.820225</td>\n",
       "      <td>15.775281</td>\n",
       "    </tr>\n",
       "    <tr>\n",
       "      <th>Action, Editor</th>\n",
       "      <td>7.500000</td>\n",
       "      <td>0.000000</td>\n",
       "      <td>2007.000000</td>\n",
       "      <td>5.000000</td>\n",
       "      <td>30.000000</td>\n",
       "    </tr>\n",
       "    <tr>\n",
       "      <th>Action, Platformer</th>\n",
       "      <td>6.066667</td>\n",
       "      <td>0.000000</td>\n",
       "      <td>2010.333333</td>\n",
       "      <td>6.333333</td>\n",
       "      <td>15.333333</td>\n",
       "    </tr>\n",
       "    <tr>\n",
       "      <th>...</th>\n",
       "      <td>...</td>\n",
       "      <td>...</td>\n",
       "      <td>...</td>\n",
       "      <td>...</td>\n",
       "      <td>...</td>\n",
       "    </tr>\n",
       "    <tr>\n",
       "      <th>Strategy, Simulation</th>\n",
       "      <td>8.100000</td>\n",
       "      <td>0.000000</td>\n",
       "      <td>2015.000000</td>\n",
       "      <td>2.000000</td>\n",
       "      <td>26.000000</td>\n",
       "    </tr>\n",
       "    <tr>\n",
       "      <th>Trivia</th>\n",
       "      <td>6.205042</td>\n",
       "      <td>0.084034</td>\n",
       "      <td>2006.865546</td>\n",
       "      <td>7.781513</td>\n",
       "      <td>16.302521</td>\n",
       "    </tr>\n",
       "    <tr>\n",
       "      <th>Virtual Pet</th>\n",
       "      <td>6.026829</td>\n",
       "      <td>0.121951</td>\n",
       "      <td>2007.439024</td>\n",
       "      <td>6.646341</td>\n",
       "      <td>15.146341</td>\n",
       "    </tr>\n",
       "    <tr>\n",
       "      <th>Wrestling</th>\n",
       "      <td>7.058209</td>\n",
       "      <td>0.149254</td>\n",
       "      <td>2004.895522</td>\n",
       "      <td>8.529851</td>\n",
       "      <td>15.283582</td>\n",
       "    </tr>\n",
       "    <tr>\n",
       "      <th>Wrestling, Simulation</th>\n",
       "      <td>7.000000</td>\n",
       "      <td>0.000000</td>\n",
       "      <td>2002.000000</td>\n",
       "      <td>6.000000</td>\n",
       "      <td>3.000000</td>\n",
       "    </tr>\n",
       "  </tbody>\n",
       "</table>\n",
       "<p>112 rows × 5 columns</p>\n",
       "</div>"
      ],
      "text/plain": [
       "                          score  editors_choice  release_year  release_month  \\\n",
       "genre                                                                          \n",
       "Action                 6.626679        0.127206   2006.241243       6.995259   \n",
       "Action, Adventure      7.371895        0.266667   2006.935948       7.338562   \n",
       "Action, Compilation    7.029213        0.123596   2006.561798       7.820225   \n",
       "Action, Editor         7.500000        0.000000   2007.000000       5.000000   \n",
       "Action, Platformer     6.066667        0.000000   2010.333333       6.333333   \n",
       "...                         ...             ...           ...            ...   \n",
       "Strategy, Simulation   8.100000        0.000000   2015.000000       2.000000   \n",
       "Trivia                 6.205042        0.084034   2006.865546       7.781513   \n",
       "Virtual Pet            6.026829        0.121951   2007.439024       6.646341   \n",
       "Wrestling              7.058209        0.149254   2004.895522       8.529851   \n",
       "Wrestling, Simulation  7.000000        0.000000   2002.000000       6.000000   \n",
       "\n",
       "                       release_day  \n",
       "genre                               \n",
       "Action                   15.841454  \n",
       "Action, Adventure        16.071895  \n",
       "Action, Compilation      15.775281  \n",
       "Action, Editor           30.000000  \n",
       "Action, Platformer       15.333333  \n",
       "...                            ...  \n",
       "Strategy, Simulation     26.000000  \n",
       "Trivia                   16.302521  \n",
       "Virtual Pet              15.146341  \n",
       "Wrestling                15.283582  \n",
       "Wrestling, Simulation     3.000000  \n",
       "\n",
       "[112 rows x 5 columns]"
      ]
     },
     "execution_count": 33,
     "metadata": {},
     "output_type": "execute_result"
    }
   ],
   "source": [
    "grouped.agg(np.mean)\n",
    "# Ignore the warning..."
   ]
  },
  {
   "cell_type": "code",
   "execution_count": 34,
   "metadata": {
    "id": "Glt08np1DUg1"
   },
   "outputs": [
    {
     "data": {
      "text/html": [
       "<div>\n",
       "<style scoped>\n",
       "    .dataframe tbody tr th:only-of-type {\n",
       "        vertical-align: middle;\n",
       "    }\n",
       "\n",
       "    .dataframe tbody tr th {\n",
       "        vertical-align: top;\n",
       "    }\n",
       "\n",
       "    .dataframe thead th {\n",
       "        text-align: right;\n",
       "    }\n",
       "</style>\n",
       "<table border=\"1\" class=\"dataframe\">\n",
       "  <thead>\n",
       "    <tr style=\"text-align: right;\">\n",
       "      <th></th>\n",
       "      <th>mean</th>\n",
       "      <th>std</th>\n",
       "    </tr>\n",
       "    <tr>\n",
       "      <th>genre</th>\n",
       "      <th></th>\n",
       "      <th></th>\n",
       "    </tr>\n",
       "  </thead>\n",
       "  <tbody>\n",
       "    <tr>\n",
       "      <th>Action</th>\n",
       "      <td>6.626679</td>\n",
       "      <td>1.690888</td>\n",
       "    </tr>\n",
       "    <tr>\n",
       "      <th>Action, Adventure</th>\n",
       "      <td>7.371895</td>\n",
       "      <td>1.585589</td>\n",
       "    </tr>\n",
       "    <tr>\n",
       "      <th>Action, Compilation</th>\n",
       "      <td>7.029213</td>\n",
       "      <td>1.425355</td>\n",
       "    </tr>\n",
       "    <tr>\n",
       "      <th>Action, Editor</th>\n",
       "      <td>7.500000</td>\n",
       "      <td>NaN</td>\n",
       "    </tr>\n",
       "    <tr>\n",
       "      <th>Action, Platformer</th>\n",
       "      <td>6.066667</td>\n",
       "      <td>0.808290</td>\n",
       "    </tr>\n",
       "    <tr>\n",
       "      <th>...</th>\n",
       "      <td>...</td>\n",
       "      <td>...</td>\n",
       "    </tr>\n",
       "    <tr>\n",
       "      <th>Strategy, Simulation</th>\n",
       "      <td>8.100000</td>\n",
       "      <td>NaN</td>\n",
       "    </tr>\n",
       "    <tr>\n",
       "      <th>Trivia</th>\n",
       "      <td>6.205042</td>\n",
       "      <td>1.762118</td>\n",
       "    </tr>\n",
       "    <tr>\n",
       "      <th>Virtual Pet</th>\n",
       "      <td>6.026829</td>\n",
       "      <td>1.837473</td>\n",
       "    </tr>\n",
       "    <tr>\n",
       "      <th>Wrestling</th>\n",
       "      <td>7.058209</td>\n",
       "      <td>1.588365</td>\n",
       "    </tr>\n",
       "    <tr>\n",
       "      <th>Wrestling, Simulation</th>\n",
       "      <td>7.000000</td>\n",
       "      <td>NaN</td>\n",
       "    </tr>\n",
       "  </tbody>\n",
       "</table>\n",
       "<p>112 rows × 2 columns</p>\n",
       "</div>"
      ],
      "text/plain": [
       "                           mean       std\n",
       "genre                                    \n",
       "Action                 6.626679  1.690888\n",
       "Action, Adventure      7.371895  1.585589\n",
       "Action, Compilation    7.029213  1.425355\n",
       "Action, Editor         7.500000       NaN\n",
       "Action, Platformer     6.066667  0.808290\n",
       "...                         ...       ...\n",
       "Strategy, Simulation   8.100000       NaN\n",
       "Trivia                 6.205042  1.762118\n",
       "Virtual Pet            6.026829  1.837473\n",
       "Wrestling              7.058209  1.588365\n",
       "Wrestling, Simulation  7.000000       NaN\n",
       "\n",
       "[112 rows x 2 columns]"
      ]
     },
     "execution_count": 34,
     "metadata": {},
     "output_type": "execute_result"
    }
   ],
   "source": [
    "# we can also pass a list of aggregating functions\n",
    "gr_genre = grouped[\"score\"].agg([np.mean, np.std])\n",
    "gr_genre"
   ]
  },
  {
   "cell_type": "markdown",
   "metadata": {
    "id": "BA7yfKkmDUg1"
   },
   "source": [
    "#### Plotting data \n",
    "\n",
    "The `plot` method of `DataFrame` is the way in which data are plotted in Pandas.\n",
    "\n",
    "The option `kind` allows the selection of the plot type (e.g. hist, bar)."
   ]
  },
  {
   "cell_type": "code",
   "execution_count": 35,
   "metadata": {
    "id": "JhiHW2RSDUg1"
   },
   "outputs": [
    {
     "data": {
      "image/png": "[encoded data removed]",
      "text/plain": [
       "<Figure size 640x480 with 1 Axes>"
      ]
     },
     "metadata": {},
     "output_type": "display_data"
    }
   ],
   "source": [
    "# Histogram plot\n",
    "_ = reviews[\"score\"].plot(kind=\"hist\")\n",
    "\n",
    "# equivalently:\n",
    "# reviews[\"score\"].hist()"
   ]
  },
  {
   "cell_type": "code",
   "execution_count": 36,
   "metadata": {
    "id": "Uvxgwb-PDUg1"
   },
   "outputs": [
    {
     "data": {
      "image/png": "[encoded data removed]",
      "text/plain": [
       "<Figure size 640x480 with 1 Axes>"
      ]
     },
     "metadata": {},
     "output_type": "display_data"
    }
   ],
   "source": [
    "# Bar plot\n",
    "_ = gr_genre.plot(kind=\"bar\")"
   ]
  },
  {
   "attachments": {},
   "cell_type": "markdown",
   "metadata": {},
   "source": [
    "## And beyond...\n",
    "\n",
    "What has been described so far is just a small portion of what `pandas` can do for you. A more in-depth and systematic analysis (partially overlapping with that just done) can be found [here](https://www.learndatasci.com/tutorials/python-pandas-tutorial-complete-introduction-for-beginners/)."
   ]
  }
 ],
 "metadata": {
  "colab": {
   "include_colab_link": true,
   "provenance": []
  },
  "kernelspec": {
   "display_name": "Python 3",
   "language": "python",
   "name": "python3"
  },
  "language_info": {
   "codemirror_mode": {
    "name": "ipython",
    "version": 3
   },
   "file_extension": ".py",
   "mimetype": "text/x-python",
   "name": "python",
   "nbconvert_exporter": "python",
   "pygments_lexer": "ipython3",
   "version": "3.10.8"
  }
 },
 "nbformat": 4,
 "nbformat_minor": 0
}
