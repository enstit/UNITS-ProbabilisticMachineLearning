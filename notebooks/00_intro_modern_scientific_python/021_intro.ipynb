{
 "cells": [
  {
   "attachments": {},
   "cell_type": "markdown",
   "metadata": {},
   "source": [
    "# Notebook 2.1: Introduction to the *scientific Python* stack\n",
    "\n",
    "Probabilistic Machine Learning -- Spring 2023, UniTS"
   ]
  },
  {
   "attachments": {},
   "cell_type": "markdown",
   "metadata": {},
   "source": [
    "The so-called *scientific Python stack* is a collection of open-source software packages for scientific computing (and, recently, also classical *machine learning*) in Python. It is a collection of packages that are designed to work well together.\n",
    "\n",
    "The stack typically includes:\n",
    "- [Python](https://www.python.org/): the programming language;\n",
    "- [NumPy](http://www.numpy.org/): a package for efficient numerical computing with Python (on CPU);\n",
    "- [SciPy](https://www.scipy.org/): a collection of routines and utilities for scientific computing;\n",
    "- [Matplotlib](https://matplotlib.org/): a plotting library;\n",
    "- [Pandas](https://pandas.pydata.org/): a library for data handling and analysis;\n",
    "- [Scikit-Learn](https://scikit-learn.org/): a library for machine learning."
   ]
  },
  {
   "attachments": {},
   "cell_type": "markdown",
   "metadata": {},
   "source": [
    "In the following, we will assume:\n",
    "- At least working knowledge of Python (if not: see [this compact, yet effective `Learn X in Y minutes; X=Python` tutorial](https://learnxinyminutes.com/docs/python/));\n",
    "- At least working knowledge of NumPy, with SciPy and Matplotlib being a very useful optional (if not: see [this tutorial](https://cs231n.github.io/python-numpy-tutorial/) from Stanford University). Please note that an organic and in-depth knowledge of either is **not required**: the essential goal is get your feet wet, understand the basic logic, and know where to look for further information."
   ]
  },
  {
   "attachments": {},
   "cell_type": "markdown",
   "metadata": {},
   "source": [
    "Additionally, a more in-depth analysis of the same topics (in, very partial, overlap with the following) can be found [in these *Scientific Python Lectures*](https://github.com/jrjohansson/scientific-python-lectures)."
   ]
  },
  {
   "attachments": {},
   "cell_type": "markdown",
   "metadata": {},
   "source": [
    "We will explore in the next ~2 hours:\n",
    "- Pandas (briefly);\n",
    "- Scikit-Learn (briefly).\n",
    "\n",
    "And we will also have a more careful look at [PyTorch](https://pytorch.org/), a Python (and C++) framework for\n",
    "- Efficient numerical computing, with (support for) strong GPU acceleration;\n",
    "- Automatic algorithmic differentiation (mainly in *reverse mode*, *tape-based*; but more recently also in *forward mode*);\n",
    "- Implementation and training of deep neural models (the *deep learning* part!);\n",
    "\n",
    "and is well integrated with (though partially overlapped, and beyond) the scientific Python stack."
   ]
  },
  {
   "attachments": {},
   "cell_type": "markdown",
   "metadata": {},
   "source": [
    "A great reference for PyTorch is [the official documentation](https://pytorch.org/docs/stable/index.html), but there are also many - friendlier - [tutorials](https://pytorch.org/tutorials/) and *e.g.* the remarkable [*Deep Learning with PyTorch*](https://isip.piconepress.com/courses/temple/ece_4822/resources/books/Deep-Learning-with-PyTorch.pdf) book."
   ]
  }
 ],
 "metadata": {
  "kernelspec": {
   "display_name": "Python 3",
   "language": "python",
   "name": "python3"
  },
  "language_info": {
   "codemirror_mode": {
    "name": "ipython",
    "version": 3
   },
   "file_extension": ".py",
   "mimetype": "text/x-python",
   "name": "python",
   "nbconvert_exporter": "python",
   "pygments_lexer": "ipython3",
   "version": "3.10.9"
  },
  "orig_nbformat": 4
 },
 "nbformat": 4,
 "nbformat_minor": 2
}
