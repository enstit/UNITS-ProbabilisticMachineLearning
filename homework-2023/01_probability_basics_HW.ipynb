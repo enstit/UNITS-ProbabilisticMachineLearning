{
 "cells": [
  {
   "attachments": {},
   "cell_type": "markdown",
   "id": "528ea288-173a-4fc0-81c1-1a6fe04f2bac",
   "metadata": {},
   "source": [
    "# Homework 1: **Probability** basics\n",
    "\n",
    "Probabilistic Machine Learning -- Spring 2023, UniTS"
   ]
  },
  {
   "attachments": {},
   "cell_type": "markdown",
   "id": "027856b4-c819-464d-967f-b4d424499ede",
   "metadata": {},
   "source": [
    "## Exercise 1\n",
    "\n",
    "Let $Y$ be a random variable taking values in $\\{1,\\dots,N\\}$ and suppose that any value is equally likely, i.e. that $P(Y=j)=\\frac{1}{N}$. \n",
    "\n",
    "Knowing that $\\sum_{j=1}^N j = \\frac{N(N+1)}{2}$, show that $\\mathbb{E}(Y)=\\frac{N+1}{2}$."
   ]
  },
  {
   "attachments": {},
   "cell_type": "markdown",
   "id": "cf77e603",
   "metadata": {},
   "source": [
    "### Solution\n",
    "\n",
    "From the Expectation definition, we need to sum each value the random variable can assume multiplied by the related probability.\\\n",
    "Thus,\n",
    "\n",
    "$$\n",
    "\\mathbb{E}(Y)=\\sum_{j=1}^{N}\\left(j P(Y=j)\\right)=P(Y=j)\\sum_{j=1}^{N}j=\\frac{1}{N}\\frac{N(N+1)}{2}=\\frac{N+1}{2}.\\\\\n",
    "$$"
   ]
  },
  {
   "attachments": {},
   "cell_type": "markdown",
   "id": "376c9854-22d3-4000-b681-c7cba107b8e5",
   "metadata": {},
   "source": [
    "## Exercise 2\n",
    "\n",
    "The time in takes (in *arbitrary units*) to travel back home from the university is modeled by the density function \n",
    "\n",
    "$$\n",
    "f(x)=\\begin{cases}1-x/2& 0<x<2\\\\0 &\\text{otherwise}\\end{cases}\n",
    "$$\n",
    "\n",
    "The cost for a trip of $x$ *arbitrary units* is ($y=8+12x$) €. Compute the expected cost to travel back home from the university."
   ]
  },
  {
   "attachments": {},
   "cell_type": "markdown",
   "id": "ff64fc3d",
   "metadata": {},
   "source": [
    "### Solution\n",
    "\n",
    "The expected time $\\mathbb{E}(t)$ a travel takes is\n",
    "\n",
    "$$\n",
    "\\mathbb{E}(t) = \\int_{R} x f(x) \\,dx = \\int_{0}^{2} x-\\frac{x^2}{2} \\,dx = \\left[\\frac{x}{2} - \\frac{1}{2}\\cdot \\frac{x^3}{3} \\right]_{0}^{2} = \\frac{2}{3}.\n",
    "$$\n",
    "\n",
    "The expected cost for such a trip is $y=8+12\\times\\frac{2}{3}=16$€."
   ]
  },
  {
   "attachments": {},
   "cell_type": "markdown",
   "id": "6579591c-c88e-43db-ba26-44dc2629172d",
   "metadata": {},
   "source": [
    "## Exercise 3\n",
    "\n",
    "Suppose that the joint *PDF* of $X$ and $Y$ is\n",
    "\n",
    "$$\n",
    "f(x,y)= \n",
    "\\begin{cases}\n",
    "\\frac{15}{4}x^2 & \\text{for } 0\\leq y \\leq 1-x^2 \\text{ and } -1\\leq x\\leq 1 \\\\\n",
    "0 & \\text{otherwise}\n",
    "\\end{cases}\n",
    "$$\n",
    "\n",
    "Determine the marginal *PDF*s of $X$ and $Y$."
   ]
  },
  {
   "attachments": {},
   "cell_type": "markdown",
   "id": "7fcc9f65",
   "metadata": {},
   "source": [
    "### Solution\n",
    "\n",
    "For $-1\\leq x\\leq 1$ we can write\n",
    "\n",
    "$$\n",
    "f_x(x) = \\int_{-\\infty}^{\\infty} f_{xy}(x,y) \\,dy =\n",
    "\\int_{0}^{1-x^2} \\frac{15}{4} x^2 \\,dy = -\\frac{15}{4} x^2 (x^2-1).\n",
    "$$\n",
    "\n",
    "So, the marginal PDF of $X$ is\n",
    "\n",
    "$$\n",
    "f_x(x)=\n",
    "\\begin{cases}\n",
    "    -\\frac{15}{4} x^2 (x^2-1)   & -1\\leq x\\leq -1\\\\\n",
    "    0               & \\text{otherwise}.\n",
    "\\end{cases}\n",
    "$$\n",
    "\n",
    "As regards $Y$, for $0\\leq y\\leq 1$\n",
    "\n",
    "$$\n",
    "f_y(y) = \\int_{-\\sqrt{1-y}}^{\\sqrt{1-y}} f_{xy}(x,y) \\,dx =\n",
    "\\frac{15}{4} \\left[\\frac{x^3}{3}\\right]_{-\\sqrt{1-y}}^{\\sqrt{1-y}} =\n",
    "\\frac{5}{2}(1-y)^{\\frac{3}{2}}\n",
    "$$\n",
    "\n",
    "So, the marginal PDF of $Y$ is\n",
    "\n",
    "$$\n",
    "f_y(y)=\n",
    "\\begin{cases}\n",
    "    \\frac{5}{2}(1-y)^{\\frac{3}{2}}   & 0\\leq y\\leq 1\\\\\n",
    "    0               & \\text{otherwise}.\n",
    "\\end{cases}\n",
    "$$"
   ]
  },
  {
   "attachments": {},
   "cell_type": "markdown",
   "id": "5de8180a-a5a7-4634-a56b-8dafaba588f0",
   "metadata": {},
   "source": [
    "## Exercise 4\n",
    "\n",
    "Let $X$ and $Y$ be continuous random variables with joint *PDF* \n",
    "\n",
    "$$\n",
    "f(x,y) = \n",
    "\\begin{cases}\n",
    "6 \\; e^{-(2x+3y)} &\\text{for } x,y\\geq 0\\\\\n",
    "0 &\\text{otherwise}\n",
    "\\end{cases}\n",
    "$$\n",
    "\n",
    "1. Are $X$ and $Y$ independent?\n",
    "2. Find $\\mathbb{E}[Y\\;|\\;X>2]$.\n",
    "3. Find $P(X>Y)$."
   ]
  },
  {
   "attachments": {},
   "cell_type": "markdown",
   "id": "bb72f20c",
   "metadata": {},
   "source": [
    "### Solution\n",
    "\n",
    "1. $X$ and $Y$ are independent if the product of the two marginal *PDF*s is the join *PDF*.\\\n",
    "    Since\n",
    "    $$\n",
    "    f_x(x) = \n",
    "    \\begin{cases}\n",
    "    2 e^{-(2x)} &\\text{for } x\\geq 0\\\\\n",
    "    0 &\\text{otherwise}\n",
    "    \\end{cases}\\\\\n",
    "    $$\n",
    "    and\n",
    "    $$\n",
    "    f_y(y) = \n",
    "    \\begin{cases}\n",
    "    3 e^{-(3y)} &\\text{for } y\\geq 0\\\\\n",
    "    0 &\\text{otherwise},\n",
    "    \\end{cases}\n",
    "    $$\n",
    "    and their product $f_x(x)\\cdot f_y(y) = f(x,y)$, $X$ and $Y$ are independent.\n",
    "2. Being $X$ and $Y$ independent,\n",
    "    $$\n",
    "    \\mathbb{E}[Y\\mid X>2] = \\mathbb{E}[Y] = \\int_{-\\infty}^{\\infty} y\\cdot f_y(y) \\,dy = \\int_{0}^{\\infty} y 3 e^{-3y} \\,dy = \\frac{1}{3}.\n",
    "    $$\n",
    "3. $$\n",
    "    \\Pr(X>Y) =\\int_{y}^{\\infty}\\int_{-\\infty}^{\\infty}f(x,y) \\,dx \\,dy = e^{-3y}\n",
    "    $$"
   ]
  },
  {
   "cell_type": "markdown",
   "id": "bab2119e-f0d7-438d-8f1d-1fb67ed09913",
   "metadata": {},
   "source": [
    "## Exercise 5\n",
    "\n",
    "You buy a laptop whose lifetime $T$ is the number of *years* it works properly before breaking down. You know that $P(T\\geq t)=e^{-t/5}$ fot all $t\\geq0$, corresponding to the probability that it lasts at least $t$ years.\n",
    "\n",
    "If the laptop still works properly after two years, what is the probability that it breaks within the third year?"
   ]
  },
  {
   "attachments": {},
   "cell_type": "markdown",
   "id": "51f20bca",
   "metadata": {},
   "source": [
    "### Solution\n",
    "\n",
    "The searched probability is\n",
    "\n",
    "$$ \\Pr(T < 3\\mid T\\geq 2) = 1-\\Pr(T\\geq 3\\mid T\\geq 2) = 1 - \\frac{\\Pr(T\\geq 2\\mid T\\geq 3)\\cdot \\Pr(T\\geq 3)}{\\Pr(T\\geq 2)}. $$\n",
    "\n",
    "Knowing that $\\Pr(T\\geq 2\\mid T\\geq 3) = 1$, $\\Pr(T\\geq 3) = e^{-\\frac{3}{5}}$ and $\\Pr(T\\geq 2) = e^{-\\frac{2}{5}}$ and substituting in the above formula, we get\n",
    "\n",
    "$$ \\Pr(T < 3\\mid T\\geq 2) = 1 - \\frac{1\\cdot e^{-\\frac{3}{5}}}{e^{-\\frac{2}{5}}} = 1 - e^{-\\frac{1}{5}}. $$\n",
    "\n",
    "The same result can be achieved by considering the memorylessness property of this lifetime distribution (called the *exponential distribution*), for which $\\Pr \\left(T>s+t\\mid T>s\\right)=\\Pr(T>t)\\quad \\forall s,t\\geq 0$."
   ]
  },
  {
   "cell_type": "markdown",
   "id": "cc56dc16",
   "metadata": {},
   "source": []
  }
 ],
 "metadata": {
  "kernelspec": {
   "display_name": "Python 3 (ipykernel)",
   "language": "python",
   "name": "python3"
  },
  "language_info": {
   "codemirror_mode": {
    "name": "ipython",
    "version": 3
   },
   "file_extension": ".py",
   "mimetype": "text/x-python",
   "name": "python",
   "nbconvert_exporter": "python",
   "pygments_lexer": "ipython3",
   "version": "3.10.9"
  }
 },
 "nbformat": 4,
 "nbformat_minor": 5
}
